{
 "cells": [
  {
   "cell_type": "code",
   "execution_count": 1,
   "metadata": {},
   "outputs": [],
   "source": [
    "import numpy as np"
   ]
  },
  {
   "cell_type": "code",
   "execution_count": 2,
   "metadata": {},
   "outputs": [],
   "source": [
    "data_1 = np.genfromtxt(\"hmm_pb1.csv\",delimiter=',')\n",
    "data_1 = data_1.astype(int)"
   ]
  },
  {
   "cell_type": "code",
   "execution_count": 3,
   "metadata": {},
   "outputs": [
    {
     "data": {
      "text/plain": [
       "275"
      ]
     },
     "execution_count": 3,
     "metadata": {},
     "output_type": "execute_result"
    }
   ],
   "source": [
    "len(data_1)"
   ]
  },
  {
   "cell_type": "code",
   "execution_count": 4,
   "metadata": {},
   "outputs": [],
   "source": [
    "def b(num,dice_type='L'):\n",
    "    if dice_type == 'L':\n",
    "        prob = [1/10,1/10,1/10,1/10,1/10,0.5]\n",
    "        return prob[num-1]\n",
    "    else:\n",
    "        prob = [1/6,1/6,1/6,1/6,1/6,1/6]\n",
    "        return prob[num-1]"
   ]
  },
  {
   "cell_type": "code",
   "execution_count": 5,
   "metadata": {},
   "outputs": [],
   "source": [
    "def Viterbi(data,b):\n",
    "    #Set up matrix C\n",
    "    C = np.zeros(shape=(len(data),2))\n",
    "    #Placeholder for pointers\n",
    "    ptr = np.zeros(shape=(len(data),2))\n",
    "    \n",
    "    T = len(data)\n",
    "    \n",
    "    #Initialization\n",
    "    pi_k = 0.5\n",
    "    C[0][0] = np.log(pi_k*b(data[0],'F'))\n",
    "    C[0][1] = np.log(pi_k*b(data[0],'L'))\n",
    "    ptr[0][0],ptr[0][1]  = 0,1\n",
    "    \n",
    "    # For t=2 to T\n",
    "    for t in range(1,len(data)):\n",
    "        #CASE WHERE WE ARE CONSIDERING THAT WE DRAW FROM FAIR DICE\n",
    "        First_term  = np.log(b(data[t],'F'))\n",
    "        Second_term = max(C[t-1][0]+np.log(0.95),C[t-1][1]+np.log(0.05))\n",
    "        C[t][0] = First_term + Second_term\n",
    "        \n",
    "        #For pointer\n",
    "        temp_list = np.array([C[t-1][0]+np.log(0.95),C[t-1][1]+np.log(0.05)])\n",
    "        ptr[t][0]  = np.argmax(temp_list)\n",
    "        \n",
    "        \n",
    "        #CASE WHERE WE ARE CONSIDERING THAT WE DRAW FROM LOADED DICE\n",
    "        First_term  = np.log(b(data[t],'L'))\n",
    "        Second_term = max(C[t-1][0]+np.log(0.05),C[t-1][1]+np.log(0.95))\n",
    "        C[t][1] = First_term + Second_term\n",
    "        \n",
    "        #For pointer\n",
    "        temp_list = np.array([C[t-1][0]+np.log(0.05),C[t-1][1]+np.log(0.95)])\n",
    "        ptr[t][1]  = np.argmax(temp_list)\n",
    "    \n",
    "   \n",
    "    #Get the sequence\n",
    "    y_T = np.argmax(C[T-1])\n",
    "    sequence = np.zeros(shape=(len(data),1))\n",
    "    sequence[-1] = ptr[-1][y_T]\n",
    "    for i in range(len(data)-1,0,-1):\n",
    "        \n",
    "        sequence[i-1] = ptr[i][int(sequence[i])]\n",
    "        \n",
    "    return (sequence+1).reshape(1,-1)"
   ]
  },
  {
   "cell_type": "code",
   "execution_count": 6,
   "metadata": {},
   "outputs": [],
   "source": [
    "sequence = Viterbi(data_1,b)"
   ]
  },
  {
   "cell_type": "code",
   "execution_count": 7,
   "metadata": {},
   "outputs": [
    {
     "data": {
      "text/plain": [
       "array([[1., 1., 1., 1., 1., 1., 1., 1., 1., 1., 1., 1., 1., 1., 1., 1.,\n",
       "        1., 1., 1., 1., 1., 1., 1., 1., 1., 1., 1., 1., 1., 1., 1., 1.,\n",
       "        1., 1., 1., 1., 1., 1., 1., 1., 1., 1., 1., 1., 1., 1., 1., 1.,\n",
       "        1., 1., 1., 1., 1., 1., 1., 1., 1., 1., 1., 1., 1., 1., 1., 1.,\n",
       "        1., 1., 1., 1., 1., 1., 1., 1., 1., 1., 1., 2., 2., 2., 2., 2.,\n",
       "        2., 2., 2., 2., 2., 2., 2., 2., 2., 2., 2., 2., 2., 2., 2., 2.,\n",
       "        2., 2., 2., 2., 2., 2., 2., 2., 2., 2., 2., 2., 2., 2., 2., 2.,\n",
       "        2., 2., 2., 2., 2., 2., 2., 2., 2., 2., 2., 1., 1., 1., 1., 1.,\n",
       "        1., 1., 1., 1., 1., 1., 1., 1., 1., 1., 1., 1., 1., 1., 1., 1.,\n",
       "        1., 1., 1., 1., 1., 1., 1., 1., 1., 1., 1., 1., 1., 1., 1., 1.,\n",
       "        1., 1., 1., 1., 1., 1., 1., 1., 1., 1., 1., 1., 1., 1., 1., 1.,\n",
       "        1., 1., 1., 1., 1., 1., 1., 1., 1., 1., 1., 1., 1., 1., 1., 1.,\n",
       "        1., 1., 1., 1., 1., 1., 1., 1., 1., 1., 1., 1., 1., 1., 1., 2.,\n",
       "        2., 2., 2., 2., 2., 2., 2., 2., 2., 2., 2., 2., 2., 2., 2., 2.,\n",
       "        2., 2., 2., 2., 2., 2., 2., 2., 2., 2., 2., 2., 2., 2., 2., 2.,\n",
       "        2., 2., 2., 2., 2., 2., 2., 2., 2., 2., 2., 2., 2., 2., 2., 2.,\n",
       "        2., 2., 2., 2., 2., 2., 2., 2., 2., 2., 2., 2., 2., 2., 2., 2.,\n",
       "        2., 2., 2.]])"
      ]
     },
     "execution_count": 7,
     "metadata": {},
     "output_type": "execute_result"
    }
   ],
   "source": [
    "sequence"
   ]
  },
  {
   "cell_type": "code",
   "execution_count": 8,
   "metadata": {},
   "outputs": [],
   "source": [
    "def forward(data,b):\n",
    "    #Set up matrix alpha\n",
    "    alpha = np.zeros(shape=(len(data),2))\n",
    "    \n",
    "    T = len(data)\n",
    "    \n",
    "    #Initialization\n",
    "    pi_k = 0.5\n",
    "    alpha[0][0] = pi_k*b(data[0],'F')\n",
    "    alpha[0][1] = pi_k*b(data[0],'L')\n",
    "    \n",
    "    # For t=2 to T\n",
    "    for t in range(1,len(data)):\n",
    "        #CASE WHERE WE ARE CONSIDERING THAT WE DRAW FROM FAIR DICE\n",
    "        b_term  = b(data[t],'F')\n",
    "        summation_term  = alpha[t-1][0]*0.95+alpha[t-1][1]*0.05\n",
    "        alpha[t][0] = b_term*summation_term\n",
    "        \n",
    "        #CASE WHERE WE ARE CONSIDERING THAT WE DRAW FROM LOADED DICE\n",
    "        b_term  = b(data[t],'L')\n",
    "        summation_term  = alpha[t-1][0]*0.05+alpha[t-1][1]*0.95\n",
    "        alpha[t][1] = b_term*summation_term\n",
    "    \n",
    "   \n",
    "    print(alpha[124][0]/alpha[124][1])\n",
    "    return alpha"
   ]
  },
  {
   "cell_type": "code",
   "execution_count": 9,
   "metadata": {},
   "outputs": [
    {
     "name": "stdout",
     "output_type": "stream",
     "text": [
      "0.39891275119173036\n"
     ]
    }
   ],
   "source": [
    "_ = forward(data_1,b)"
   ]
  },
  {
   "cell_type": "code",
   "execution_count": 10,
   "metadata": {},
   "outputs": [],
   "source": [
    "def backward(data,b):\n",
    "    #Set up matrix alpha\n",
    "    beta = np.zeros(shape=(len(data),2))\n",
    "    \n",
    "    T = len(data)-1 #Since python is 0-based\n",
    "    \n",
    "    #Initialization\n",
    "    beta[-1][0] = 1\n",
    "    beta[-1][1] = 1\n",
    "    \n",
    "    # For t=2 to T\n",
    "    for t in range(T-1,0,-1):\n",
    "        #CASE WHERE WE ARE CONSIDERING THAT WE DRAW FROM FAIR DICE\n",
    "        beta[t][0] = 0.95*b(data[t+1],'F')*beta[t+1][0] + 0.05*b(data[t+1],'L')*beta[t+1][1] \n",
    "        \n",
    "        #CASE WHERE WE ARE CONSIDERING THAT WE DRAW FROM LOADED DICE\n",
    "        beta[t][1] = 0.95*b(data[t+1],'L')*beta[t+1][1] + 0.05*b(data[t+1],'F')*beta[t+1][0]\n",
    "    \n",
    "   \n",
    "    print(beta[124][0]/beta[124][1])\n",
    "    return beta\n",
    "    "
   ]
  },
  {
   "cell_type": "code",
   "execution_count": 11,
   "metadata": {
    "scrolled": true
   },
   "outputs": [
    {
     "name": "stdout",
     "output_type": "stream",
     "text": [
      "3.8564482012611956\n"
     ]
    }
   ],
   "source": [
    "_ = backward(data_1,b)"
   ]
  },
  {
   "cell_type": "markdown",
   "metadata": {},
   "source": [
    "# part 2"
   ]
  },
  {
   "cell_type": "code",
   "execution_count": 12,
   "metadata": {},
   "outputs": [],
   "source": [
    "data_2 = np.genfromtxt(\"hmm_pb2.csv\",delimiter=',')\n",
    "data_2 = data_2.astype(int)"
   ]
  },
  {
   "cell_type": "code",
   "execution_count": 13,
   "metadata": {},
   "outputs": [],
   "source": [
    "def forwardWB(data,ProbEmission,ProbTransition,alpha,pi):\n",
    "    \n",
    "    T = len(data)\n",
    "    \n",
    "    #Normalize Initialization\n",
    "    alpha[0][0] = pi[0]*ProbEmission[0][data[0]-1]\n",
    "    alpha[0][1] = pi[1]*ProbEmission[1][data[0]-1]\n",
    "    alpha[0][0],alpha[0][1] = alpha[0][0]/(alpha[0][0]+alpha[0][1]),alpha[0][1]/(alpha[0][0]+alpha[0][1])\n",
    "    \n",
    "    # For t=2 to T\n",
    "    for t in range(1,len(data)):\n",
    "        #CASE WHERE WE ARE CONSIDERING THAT WE DRAW FROM FAIR DICE\n",
    "        b_term  = ProbEmission[0][data[t]-1]\n",
    "        summation_term  = alpha[t-1][0]*ProbTransition[0][0]+alpha[t-1][1]*ProbTransition[0][1]\n",
    "        alpha[t][0] = b_term*summation_term\n",
    "        \n",
    "        #CASE WHERE WE ARE CONSIDERING THAT WE DRAW FROM LOADED DICE\n",
    "        b_term  = ProbEmission[1][data[t]-1]\n",
    "        summation_term  = alpha[t-1][0]*ProbTransition[1][0]+alpha[t-1][1]*ProbTransition[1][1]\n",
    "        alpha[t][1] = b_term*summation_term\n",
    "        \n",
    "        # Normalization step\n",
    "        alpha[t][0],alpha[t][1] = alpha[t][0]/(alpha[t][0]+alpha[t][1]),alpha[t][1]/(alpha[t][0]+alpha[t][1])\n",
    "        \n",
    "    #print(alpha[124][0]/alpha[124][1])\n",
    "    #print(np.all(np.sum(alpha,axis=1))==1)\n",
    "    #print(alpha[:5])\n",
    "    return alpha"
   ]
  },
  {
   "cell_type": "code",
   "execution_count": 14,
   "metadata": {},
   "outputs": [],
   "source": [
    "def backwardWB(data,ProbEmission,ProbTransition,beta,pi):\n",
    "    \n",
    "    T = len(data)-1 #Since python is 0-based\n",
    "    \n",
    "    #Normalize Initialization\n",
    "    beta[-1][0] = 0.5\n",
    "    beta[-1][1] = 0.5\n",
    "    \n",
    "    # For t=2 to T\n",
    "    for t in range(T-1,-1,-1):\n",
    "        #CASE WHERE WE ARE CONSIDERING THAT WE DRAW FROM FAIR DICE\n",
    "        #beta[t][0] = 0.95*b(data[t+1],'F')*beta[t+1][0] + 0.05*b(data[t+1],'L')*beta[t+1][1] \n",
    "        \n",
    "        beta[t][0] =  ProbTransition[0][0]*ProbEmission[0][data[t+1]-1]*beta[t+1][0] \\\n",
    "                      + ProbTransition[0][1]*ProbEmission[1][data[t+1]-1]*beta[t+1][1] \n",
    "        \n",
    "        #CASE WHERE WE ARE CONSIDERING THAT WE DRAW FROM LOADED DICE\n",
    "        #beta[t][1] = 0.95*b(data[t+1],'L')*beta[t+1][1] + 0.05*b(data[t+1],'F')*beta[t+1][0]\n",
    "        \n",
    "        beta[t][1] =  ProbTransition[1][1]*ProbEmission[1][data[t+1]-1]*beta[t+1][1] \\\n",
    "                      + ProbTransition[1][0]*ProbEmission[0][data[t+1]-1]*beta[t+1][0]         \n",
    "\n",
    "        # Normalization step\n",
    "        beta[t][0],beta[t][1] = beta[t][0]/(beta[t][0]+beta[t][1]),beta[t][1]/(beta[t][0]+beta[t][1])\n",
    "    \n",
    "    #print(beta[124][0]/beta[124][1])\n",
    "    #print(np.all(np.sum(beta,axis=1))==1)\n",
    "    #print(beta[:5])\n",
    "    return beta"
   ]
  },
  {
   "cell_type": "raw",
   "metadata": {},
   "source": [
    "data = data_1\n",
    "ProbEmission = np.array([[1/6,1/6,1/6,1/6,1/6,1/6],[1/10,1/10,1/10,1/10,1/10,0.5]])\n",
    "ProbTransition = np.array([[0.95,0.05],[0.05,0.95]])\n",
    "pi = np.array([0.5,0.5])\n",
    "beta  = np.zeros(shape=(len(data),2))\n",
    "alpha = np.zeros(shape=(len(data),2))\n",
    "_ = forwardWB(data,ProbEmission,ProbTransition,alpha,pi)   \n",
    "_ = backwardWB(data,ProbEmission,ProbTransition,beta,pi)"
   ]
  },
  {
   "cell_type": "code",
   "execution_count": 30,
   "metadata": {},
   "outputs": [],
   "source": [
    "def Baum_Welch(data):\n",
    "    #Intialize Emission prob or b\n",
    "    ProbEmission = np.array([[1/6,1/6,1/6,1/6,1/6,1/6],\n",
    "                             [1/10,1/10,1/10,1/10,1/10,1/2]])\n",
    "     \n",
    "    #Initialize pi\n",
    "    Pi = np.array([0.5,0.5])\n",
    "    \n",
    "    #Initialize transition probability\n",
    "    ProbTransition = np.array([[0.95,0.05],\n",
    "                               [0.05,0.95]])\n",
    "    \n",
    "    #Initialize tau\n",
    "    tau = np.zeros(shape = (len(data),2,2))\n",
    "    \n",
    "    #Initialize gamma \n",
    "    gamma = np.zeros(shape = (len(data),2))\n",
    "    \n",
    "    #Initialize alpha and beta\n",
    "    alpha_0 = np.zeros(shape=(len(data),2))\n",
    "    beta_0 = np.zeros(shape=(len(data),2))\n",
    "    \n",
    "    for Iter in range(2000):\n",
    "        if (Iter%100==0):\n",
    "            print(Iter)\n",
    "        #*********Compute the forward prob**************\n",
    "        alpha  = forwardWB(data,ProbEmission,ProbTransition,alpha_0,Pi)\n",
    "        \n",
    "        #*********Compute the Backward prob*************\n",
    "        beta   = backwardWB(data,ProbEmission,ProbTransition,beta_0,Pi)\n",
    "        \n",
    "        #print(\"\\nalpha\\n\",alpha[:5])\n",
    "        #print(\"\\nbeta\\n\",beta[:5])\n",
    "        #********** E step ******************************\n",
    "        for t in range(len(data)-1):\n",
    "            for i in range(2):\n",
    "                gamma[t][i] = alpha[t][i]*beta[t][i]\n",
    "                for j in range(2):\n",
    "                    tau[t][i][j] = alpha[t][i]*ProbTransition[i][j]*beta[t+1][j]*ProbEmission[j][data[t+1]-1]\n",
    "\n",
    "            #Normailzation step\n",
    "            tau[t]   = tau[t]/np.sum(tau[t],axis=None)\n",
    "            gamma[t] = gamma[t]/np.sum(gamma[t],axis=None)\n",
    "            \n",
    "        #********** M step *******************************\n",
    "        \n",
    "        Pi[0],Pi[1] = gamma[0][0],gamma[0][1]\n",
    "        #print(\"\\ngamma\\n\",gamma[:5])\n",
    "        #print(\"\\nsigma\\n\",tau[:5])\n",
    "        \n",
    "        #For Emission prob\n",
    "        temp = np.zeros(shape=(2,6))\n",
    "        temp2 = np.zeros(shape=(2,2))\n",
    "        temp3 = np.zeros(shape=(2,1))\n",
    "        for t in range(len(data)-1):\n",
    "            num = data[t]\n",
    "            temp[0][num-1] += gamma[t][0]\n",
    "            temp[1][num-1] += gamma[t][1]\n",
    "            \n",
    "            temp2[0][0] += tau[t][0][0]\n",
    "            temp2[0][1] += tau[t][0][1]\n",
    "            temp2[1][0] += tau[t][1][0]\n",
    "            temp2[1][1] += tau[t][1][1]\n",
    "            \n",
    "            temp3[0] += gamma[t][0]\n",
    "            temp3[1] += gamma[t][1]\n",
    "        \n",
    "        ProbTransition = temp2/temp3\n",
    "        \n",
    "        ProbEmission = temp/np.sum(gamma,axis=0).reshape(2,1)\n",
    "        #assert np.all(alpha_0 == alpha)\n",
    "        #assert np.all(beta_0 == beta)\n",
    "        #print(np.sum(ProbEmission,axis=1))\n",
    "        #print(np.sum(ProbTransition,axis=1))\n",
    "        alpha_0 = alpha.copy()\n",
    "        beta_0 = beta.copy()\n",
    "            \n",
    "    return Pi,ProbEmission,ProbTransition"
   ]
  },
  {
   "cell_type": "code",
   "execution_count": 31,
   "metadata": {
    "scrolled": true
   },
   "outputs": [
    {
     "name": "stdout",
     "output_type": "stream",
     "text": [
      "0\n",
      "100\n",
      "200\n",
      "300\n",
      "400\n",
      "500\n",
      "600\n",
      "700\n",
      "800\n",
      "900\n",
      "1000\n",
      "1100\n",
      "1200\n",
      "1300\n",
      "1400\n",
      "1500\n",
      "1600\n",
      "1700\n",
      "1800\n",
      "1900\n"
     ]
    }
   ],
   "source": [
    "Pi,ProbEmission,ProbTransition = Baum_Welch(data_2)"
   ]
  },
  {
   "cell_type": "code",
   "execution_count": 33,
   "metadata": {},
   "outputs": [
    {
     "name": "stdout",
     "output_type": "stream",
     "text": [
      "\n",
      "Initial Probablities are\n",
      "\n",
      " [1.e+000 3.e-323] \n",
      "\n",
      "Emission Probabilities are\n",
      "\n",
      " [[0.23011221 0.21110127 0.19111903 0.22936088 0.04854345 0.08976316]\n",
      " [0.1632448  0.19291674 0.18591227 0.16139451 0.19986771 0.09666398]] \n",
      "\n",
      "Transition Probabilities are \n",
      "\n",
      " [[0.86360957 0.13639043]\n",
      " [0.14365604 0.85634396]]\n"
     ]
    }
   ],
   "source": [
    "print(\"\\nInitial Probablities are\\n\\n\",Pi,\"\\n\\nEmission Probabilities are\\n\\n\",ProbEmission,\"\\n\\nTransition Probabilities are \\n\\n\",ProbTransition)"
   ]
  },
  {
   "cell_type": "code",
   "execution_count": null,
   "metadata": {},
   "outputs": [],
   "source": []
  },
  {
   "cell_type": "code",
   "execution_count": null,
   "metadata": {},
   "outputs": [],
   "source": []
  },
  {
   "cell_type": "code",
   "execution_count": null,
   "metadata": {},
   "outputs": [],
   "source": []
  },
  {
   "cell_type": "code",
   "execution_count": null,
   "metadata": {},
   "outputs": [],
   "source": []
  }
 ],
 "metadata": {
  "kernelspec": {
   "display_name": "Python 3",
   "language": "python",
   "name": "python3"
  },
  "language_info": {
   "codemirror_mode": {
    "name": "ipython",
    "version": 3
   },
   "file_extension": ".py",
   "mimetype": "text/x-python",
   "name": "python",
   "nbconvert_exporter": "python",
   "pygments_lexer": "ipython3",
   "version": "3.7.3"
  }
 },
 "nbformat": 4,
 "nbformat_minor": 4
}
