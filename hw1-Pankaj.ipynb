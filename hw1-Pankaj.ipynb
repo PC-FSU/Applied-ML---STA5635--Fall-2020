{
 "cells": [
  {
   "cell_type": "code",
   "execution_count": 1,
   "metadata": {},
   "outputs": [],
   "source": [
    "import numpy as np\n",
    "import matplotlib.pyplot as plt\n",
    "from sklearn.tree import DecisionTreeRegressor\n",
    "from sklearn.ensemble import RandomForestClassifier\n",
    "import os\n",
    "import pandas as pd"
   ]
  },
  {
   "cell_type": "code",
   "execution_count": 2,
   "metadata": {},
   "outputs": [],
   "source": [
    "def Misclassification_error(Actual_label,predicted_label):\n",
    "    Total_sample  = len(Actual_label)\n",
    "    bool_array =  Actual_label == predicted_label\n",
    "    True_count = np.count_nonzero(bool_array)\n",
    "    #print(True_count)\n",
    "    return (Total_sample - True_count)/Total_sample"
   ]
  },
  {
   "cell_type": "code",
   "execution_count": 3,
   "metadata": {},
   "outputs": [],
   "source": [
    "def Train_tree(Train_data,Train_label,Valid_data,Valid_label,name,depth):\n",
    "\n",
    "    Train_error = []\n",
    "    Test_eror   = []\n",
    "\n",
    "    for i in range(1,depth+1):\n",
    "        Tree = DecisionTreeClassifier(criterion = 'entropy',max_depth = i,random_state=1)\n",
    "        Tree.fit(Train_data,Train_label)\n",
    "\n",
    "        prediction = Tree.predict(Train_data)\n",
    "        temp = Misclassification_error(Train_label,prediction)\n",
    "\n",
    "        Train_error.append(temp)\n",
    "\n",
    "        prediction = Tree.predict(Valid_data)\n",
    "        temp = Misclassification_error(Valid_label,prediction)\n",
    "        Test_eror.append(temp)\n",
    "\n",
    "    Depth = np.linspace(1,depth,depth)\n",
    "    plt.plot(Depth,Train_error,label = 'Training Misclassification_error')\n",
    "    plt.plot(Depth,Test_eror,label = 'Testing Misclassification_error')\n",
    "    plt.xlabel(\"Depth\")\n",
    "    plt.ylabel(\"Misclassification_error\")\n",
    "    plt.title(\"Error For %s Dataset\" %name)\n",
    "    plt.legend()\n",
    "    plt.show()\n",
    "    return np.array(list(zip(Train_error,Test_eror)))"
   ]
  },
  {
   "cell_type": "code",
   "execution_count": 36,
   "metadata": {},
   "outputs": [],
   "source": [
    "def Train_forest(Train_data,Train_label,Valid_data,Valid_label,name,max_features=1):\n",
    "    Train_error = []\n",
    "    Test_eror   = []\n",
    "    \n",
    "    k = [3,10,30,100,300]\n",
    "    \n",
    "    for i in k:\n",
    "        \n",
    "        Tree = RandomForestClassifier(criterion = 'entropy',n_estimators = i,max_features=max_features)\n",
    "        Tree.fit(Train_data,Train_label)\n",
    "\n",
    "        prediction = Tree.predict(Train_data)\n",
    "        temp = Misclassification_error(Train_label,prediction)\n",
    "\n",
    "        Train_error.append(temp)\n",
    "\n",
    "        prediction = Tree.predict(Valid_data)\n",
    "        temp = Misclassification_error(Valid_label,prediction)\n",
    "        Test_eror.append(temp)\n",
    "\n",
    "   \n",
    "    plt.xticks(np.linspace(0,len(k)-1,len(k)),k) \n",
    "    plt.plot(Train_error,label = 'Training Misclassification_error')\n",
    "    plt.plot(Test_eror,label = 'Testing Misclassification_error')\n",
    "    plt.xlabel(\"K\")\n",
    "    plt.ylabel(\"Misclassification_error\")\n",
    "    plt.title(\"Error For %s Dataset\" %name)\n",
    "    plt.legend()\n",
    "    plt.show()\n",
    "    df = pd.DataFrame(np.array(list(zip(Train_error,Test_eror))),columns=[\"Train error\",\"Test Error\"])\n",
    "    df.index = k\n",
    "    df.index.name = 'k'\n",
    "    \n",
    "    return df\n"
   ]
  },
  {
   "cell_type": "markdown",
   "metadata": {},
   "source": [
    "# Part a"
   ]
  },
  {
   "cell_type": "code",
   "execution_count": 5,
   "metadata": {},
   "outputs": [],
   "source": [
    "source_folder = \"C:\\\\Users\\\\18503\\\\Dropbox\\\\Course\\\\Applied Machine Learning\\\\Homework\\\\hw1\""
   ]
  },
  {
   "cell_type": "code",
   "execution_count": 6,
   "metadata": {},
   "outputs": [
    {
     "data": {
      "text/plain": [
       "['madelon.param',\n",
       " 'madelon_test.data',\n",
       " 'madelon_train.data',\n",
       " 'madelon_train.labels',\n",
       " 'madelon_valid.data',\n",
       " 'madelon_valid.labels']"
      ]
     },
     "execution_count": 6,
     "metadata": {},
     "output_type": "execute_result"
    }
   ],
   "source": [
    "os.listdir(os.path.join(source_folder,\"MADELON\"))"
   ]
  },
  {
   "cell_type": "code",
   "execution_count": 7,
   "metadata": {},
   "outputs": [
    {
     "data": {
      "text/plain": [
       "((2000, 500), (2000,), (1800, 500))"
      ]
     },
     "execution_count": 7,
     "metadata": {},
     "output_type": "execute_result"
    }
   ],
   "source": [
    "Train_data  = np.loadtxt(os.path.join(source_folder,\"MADELON\",\"madelon_train.data\"))\n",
    "Train_label = np.loadtxt(os.path.join(source_folder,\"MADELON\",\"madelon_train.labels\"))\n",
    "\n",
    "Valid_data  = np.loadtxt(os.path.join(source_folder,\"MADELON\",\"madelon_valid.data\"))\n",
    "Valid_label = np.loadtxt(os.path.join(source_folder,\"MADELON\",\"madelon_valid.labels\"))\n",
    "\n",
    "Test_data   = np.loadtxt(os.path.join(source_folder,\"MADELON\",\"madelon_test.data\"))\n",
    "Test_label  = []\n",
    "\n",
    "Train_data.shape,Train_label.shape,Test_data.shape"
   ]
  },
  {
   "cell_type": "code",
   "execution_count": 8,
   "metadata": {},
   "outputs": [
    {
     "data": {
      "text/plain": [
       "array([-1.,  1.])"
      ]
     },
     "execution_count": 8,
     "metadata": {},
     "output_type": "execute_result"
    }
   ],
   "source": [
    "np.unique(Train_label)"
   ]
  },
  {
   "cell_type": "code",
   "execution_count": 9,
   "metadata": {},
   "outputs": [],
   "source": [
    "Train_df = pd.DataFrame(data=Train_data)"
   ]
  },
  {
   "cell_type": "code",
   "execution_count": 10,
   "metadata": {
    "scrolled": true
   },
   "outputs": [
    {
     "data": {
      "text/html": [
       "<div>\n",
       "<style scoped>\n",
       "    .dataframe tbody tr th:only-of-type {\n",
       "        vertical-align: middle;\n",
       "    }\n",
       "\n",
       "    .dataframe tbody tr th {\n",
       "        vertical-align: top;\n",
       "    }\n",
       "\n",
       "    .dataframe thead th {\n",
       "        text-align: right;\n",
       "    }\n",
       "</style>\n",
       "<table border=\"1\" class=\"dataframe\">\n",
       "  <thead>\n",
       "    <tr style=\"text-align: right;\">\n",
       "      <th></th>\n",
       "      <th>0</th>\n",
       "      <th>1</th>\n",
       "      <th>2</th>\n",
       "      <th>3</th>\n",
       "      <th>4</th>\n",
       "      <th>5</th>\n",
       "      <th>6</th>\n",
       "      <th>7</th>\n",
       "      <th>8</th>\n",
       "      <th>9</th>\n",
       "      <th>...</th>\n",
       "      <th>490</th>\n",
       "      <th>491</th>\n",
       "      <th>492</th>\n",
       "      <th>493</th>\n",
       "      <th>494</th>\n",
       "      <th>495</th>\n",
       "      <th>496</th>\n",
       "      <th>497</th>\n",
       "      <th>498</th>\n",
       "      <th>499</th>\n",
       "    </tr>\n",
       "  </thead>\n",
       "  <tbody>\n",
       "    <tr>\n",
       "      <th>0</th>\n",
       "      <td>485.0</td>\n",
       "      <td>477.0</td>\n",
       "      <td>537.0</td>\n",
       "      <td>479.0</td>\n",
       "      <td>452.0</td>\n",
       "      <td>471.0</td>\n",
       "      <td>491.0</td>\n",
       "      <td>476.0</td>\n",
       "      <td>475.0</td>\n",
       "      <td>473.0</td>\n",
       "      <td>...</td>\n",
       "      <td>477.0</td>\n",
       "      <td>481.0</td>\n",
       "      <td>477.0</td>\n",
       "      <td>485.0</td>\n",
       "      <td>511.0</td>\n",
       "      <td>485.0</td>\n",
       "      <td>481.0</td>\n",
       "      <td>479.0</td>\n",
       "      <td>475.0</td>\n",
       "      <td>496.0</td>\n",
       "    </tr>\n",
       "    <tr>\n",
       "      <th>1</th>\n",
       "      <td>483.0</td>\n",
       "      <td>458.0</td>\n",
       "      <td>460.0</td>\n",
       "      <td>487.0</td>\n",
       "      <td>587.0</td>\n",
       "      <td>475.0</td>\n",
       "      <td>526.0</td>\n",
       "      <td>479.0</td>\n",
       "      <td>485.0</td>\n",
       "      <td>469.0</td>\n",
       "      <td>...</td>\n",
       "      <td>463.0</td>\n",
       "      <td>478.0</td>\n",
       "      <td>487.0</td>\n",
       "      <td>338.0</td>\n",
       "      <td>513.0</td>\n",
       "      <td>486.0</td>\n",
       "      <td>483.0</td>\n",
       "      <td>492.0</td>\n",
       "      <td>510.0</td>\n",
       "      <td>517.0</td>\n",
       "    </tr>\n",
       "    <tr>\n",
       "      <th>2</th>\n",
       "      <td>487.0</td>\n",
       "      <td>542.0</td>\n",
       "      <td>499.0</td>\n",
       "      <td>468.0</td>\n",
       "      <td>448.0</td>\n",
       "      <td>471.0</td>\n",
       "      <td>442.0</td>\n",
       "      <td>478.0</td>\n",
       "      <td>480.0</td>\n",
       "      <td>477.0</td>\n",
       "      <td>...</td>\n",
       "      <td>487.0</td>\n",
       "      <td>481.0</td>\n",
       "      <td>492.0</td>\n",
       "      <td>650.0</td>\n",
       "      <td>506.0</td>\n",
       "      <td>501.0</td>\n",
       "      <td>480.0</td>\n",
       "      <td>489.0</td>\n",
       "      <td>499.0</td>\n",
       "      <td>498.0</td>\n",
       "    </tr>\n",
       "    <tr>\n",
       "      <th>3</th>\n",
       "      <td>480.0</td>\n",
       "      <td>491.0</td>\n",
       "      <td>510.0</td>\n",
       "      <td>485.0</td>\n",
       "      <td>495.0</td>\n",
       "      <td>472.0</td>\n",
       "      <td>417.0</td>\n",
       "      <td>474.0</td>\n",
       "      <td>502.0</td>\n",
       "      <td>476.0</td>\n",
       "      <td>...</td>\n",
       "      <td>491.0</td>\n",
       "      <td>480.0</td>\n",
       "      <td>474.0</td>\n",
       "      <td>572.0</td>\n",
       "      <td>454.0</td>\n",
       "      <td>469.0</td>\n",
       "      <td>475.0</td>\n",
       "      <td>482.0</td>\n",
       "      <td>494.0</td>\n",
       "      <td>461.0</td>\n",
       "    </tr>\n",
       "    <tr>\n",
       "      <th>4</th>\n",
       "      <td>484.0</td>\n",
       "      <td>502.0</td>\n",
       "      <td>528.0</td>\n",
       "      <td>489.0</td>\n",
       "      <td>466.0</td>\n",
       "      <td>481.0</td>\n",
       "      <td>402.0</td>\n",
       "      <td>478.0</td>\n",
       "      <td>487.0</td>\n",
       "      <td>468.0</td>\n",
       "      <td>...</td>\n",
       "      <td>488.0</td>\n",
       "      <td>479.0</td>\n",
       "      <td>452.0</td>\n",
       "      <td>435.0</td>\n",
       "      <td>486.0</td>\n",
       "      <td>508.0</td>\n",
       "      <td>481.0</td>\n",
       "      <td>504.0</td>\n",
       "      <td>495.0</td>\n",
       "      <td>511.0</td>\n",
       "    </tr>\n",
       "  </tbody>\n",
       "</table>\n",
       "<p>5 rows × 500 columns</p>\n",
       "</div>"
      ],
      "text/plain": [
       "     0      1      2      3      4      5      6      7      8      9    ...  \\\n",
       "0  485.0  477.0  537.0  479.0  452.0  471.0  491.0  476.0  475.0  473.0  ...   \n",
       "1  483.0  458.0  460.0  487.0  587.0  475.0  526.0  479.0  485.0  469.0  ...   \n",
       "2  487.0  542.0  499.0  468.0  448.0  471.0  442.0  478.0  480.0  477.0  ...   \n",
       "3  480.0  491.0  510.0  485.0  495.0  472.0  417.0  474.0  502.0  476.0  ...   \n",
       "4  484.0  502.0  528.0  489.0  466.0  481.0  402.0  478.0  487.0  468.0  ...   \n",
       "\n",
       "     490    491    492    493    494    495    496    497    498    499  \n",
       "0  477.0  481.0  477.0  485.0  511.0  485.0  481.0  479.0  475.0  496.0  \n",
       "1  463.0  478.0  487.0  338.0  513.0  486.0  483.0  492.0  510.0  517.0  \n",
       "2  487.0  481.0  492.0  650.0  506.0  501.0  480.0  489.0  499.0  498.0  \n",
       "3  491.0  480.0  474.0  572.0  454.0  469.0  475.0  482.0  494.0  461.0  \n",
       "4  488.0  479.0  452.0  435.0  486.0  508.0  481.0  504.0  495.0  511.0  \n",
       "\n",
       "[5 rows x 500 columns]"
      ]
     },
     "execution_count": 10,
     "metadata": {},
     "output_type": "execute_result"
    }
   ],
   "source": [
    "Train_df.head()"
   ]
  },
  {
   "cell_type": "code",
   "execution_count": 11,
   "metadata": {},
   "outputs": [
    {
     "data": {
      "image/png": "[encoded data removed]",
      "text/plain": [
       "<Figure size 432x288 with 1 Axes>"
      ]
     },
     "metadata": {
      "needs_background": "light"
     },
     "output_type": "display_data"
    }
   ],
   "source": [
    "depth = 12\n",
    "Error     = Train_tree(Train_data,Train_label,Valid_data,Valid_label,'MADELON',depth=depth)\n",
    "Train_error = Error[:,0]\n",
    "Test_eror   = Error[:,1]"
   ]
  },
  {
   "cell_type": "code",
   "execution_count": 12,
   "metadata": {},
   "outputs": [
    {
     "data": {
      "text/plain": [
       "(0.0, 12)"
      ]
     },
     "execution_count": 12,
     "metadata": {},
     "output_type": "execute_result"
    }
   ],
   "source": [
    "np.min(Train_error),np.argmin(Train_error)+1"
   ]
  },
  {
   "cell_type": "code",
   "execution_count": 13,
   "metadata": {},
   "outputs": [
    {
     "data": {
      "text/plain": [
       "(0.205, 5)"
      ]
     },
     "execution_count": 13,
     "metadata": {},
     "output_type": "execute_result"
    }
   ],
   "source": [
    "np.min(Test_eror),np.argmin(Test_eror)+1"
   ]
  },
  {
   "cell_type": "markdown",
   "metadata": {},
   "source": [
    "# Part b"
   ]
  },
  {
   "cell_type": "code",
   "execution_count": 14,
   "metadata": {},
   "outputs": [
    {
     "data": {
      "text/plain": [
       "['wilt_test.csv', 'wilt_test.labels', 'wilt_train.csv', 'wilt_train.labels']"
      ]
     },
     "execution_count": 14,
     "metadata": {},
     "output_type": "execute_result"
    }
   ],
   "source": [
    "os.listdir(os.path.join(source_folder,\"wilt\"))"
   ]
  },
  {
   "cell_type": "code",
   "execution_count": 15,
   "metadata": {},
   "outputs": [
    {
     "data": {
      "text/plain": [
       "((4339, 5), (4339,), (500, 5), (500,))"
      ]
     },
     "execution_count": 15,
     "metadata": {},
     "output_type": "execute_result"
    }
   ],
   "source": [
    "Train_data_1  = pd.read_csv(os.path.join(source_folder,\"wilt\",\"wilt_train.csv\"),delimiter = ',',header = None)\n",
    "Train_label_1 = np.loadtxt(os.path.join(source_folder,\"wilt\",\"wilt_train.labels\"))\n",
    "\n",
    "Valid_data_1  = pd.read_csv(os.path.join(source_folder,\"wilt\",\"wilt_test.csv\"),delimiter=',',header = None)\n",
    "Valid_label_1 = np.loadtxt(os.path.join(source_folder,\"wilt\",\"wilt_test.labels\"))\n",
    "\n",
    "Train_data_1.shape,Train_label_1.shape,Valid_data_1.shape,Valid_label_1.shape"
   ]
  },
  {
   "cell_type": "code",
   "execution_count": 16,
   "metadata": {},
   "outputs": [
    {
     "data": {
      "image/png": "[encoded data removed]",
      "text/plain": [
       "<Figure size 432x288 with 1 Axes>"
      ]
     },
     "metadata": {
      "needs_background": "light"
     },
     "output_type": "display_data"
    }
   ],
   "source": [
    "depth = 10\n",
    "Error_1      = Train_tree(Train_data_1,Train_label_1,Valid_data_1,Valid_label_1,'WILT',depth)\n",
    "Train_error_1 = Error_1[:,0]\n",
    "Test_eror_1   = Error_1[:,1]"
   ]
  },
  {
   "cell_type": "code",
   "execution_count": 17,
   "metadata": {},
   "outputs": [
    {
     "data": {
      "text/plain": [
       "(array([0.01705462, 0.01705462, 0.00921871, 0.00760544, 0.00483982,\n",
       "        0.00276561, 0.00161327, 0.0006914 , 0.0006914 , 0.00023047]),\n",
       " array([0.374, 0.374, 0.212, 0.208, 0.152, 0.168, 0.156, 0.156, 0.168,\n",
       "        0.158]))"
      ]
     },
     "execution_count": 17,
     "metadata": {},
     "output_type": "execute_result"
    }
   ],
   "source": [
    "Train_error_1,Test_eror_1"
   ]
  },
  {
   "cell_type": "code",
   "execution_count": 18,
   "metadata": {
    "scrolled": true
   },
   "outputs": [
    {
     "data": {
      "text/plain": [
       "(0.00023046784973496196, 10)"
      ]
     },
     "execution_count": 18,
     "metadata": {},
     "output_type": "execute_result"
    }
   ],
   "source": [
    "np.min(Train_error_1),np.argmin(Train_error_1)+1"
   ]
  },
  {
   "cell_type": "code",
   "execution_count": 19,
   "metadata": {
    "scrolled": true
   },
   "outputs": [
    {
     "data": {
      "text/plain": [
       "(0.152, 5)"
      ]
     },
     "execution_count": 19,
     "metadata": {},
     "output_type": "execute_result"
    }
   ],
   "source": [
    "np.min(Test_eror_1),np.argmin(Test_eror_1)+1"
   ]
  },
  {
   "cell_type": "code",
   "execution_count": 25,
   "metadata": {},
   "outputs": [
    {
     "data": {
      "text/plain": [
       "(array([0., 1.]), array([4265,   74], dtype=int64))"
      ]
     },
     "execution_count": 25,
     "metadata": {},
     "output_type": "execute_result"
    }
   ],
   "source": [
    "np.unique(Train_label_1,return_counts=True)"
   ]
  },
  {
   "cell_type": "markdown",
   "metadata": {},
   "source": [
    "# Part C"
   ]
  },
  {
   "cell_type": "code",
   "execution_count": 37,
   "metadata": {},
   "outputs": [
    {
     "data": {
      "image/png": "[encoded data removed]",
      "text/plain": [
       "<Figure size 432x288 with 1 Axes>"
      ]
     },
     "metadata": {
      "needs_background": "light"
     },
     "output_type": "display_data"
    },
    {
     "data": {
      "text/html": [
       "<div>\n",
       "<style scoped>\n",
       "    .dataframe tbody tr th:only-of-type {\n",
       "        vertical-align: middle;\n",
       "    }\n",
       "\n",
       "    .dataframe tbody tr th {\n",
       "        vertical-align: top;\n",
       "    }\n",
       "\n",
       "    .dataframe thead th {\n",
       "        text-align: right;\n",
       "    }\n",
       "</style>\n",
       "<table border=\"1\" class=\"dataframe\">\n",
       "  <thead>\n",
       "    <tr style=\"text-align: right;\">\n",
       "      <th></th>\n",
       "      <th>Train error</th>\n",
       "      <th>Test Error</th>\n",
       "    </tr>\n",
       "    <tr>\n",
       "      <th>k</th>\n",
       "      <th></th>\n",
       "      <th></th>\n",
       "    </tr>\n",
       "  </thead>\n",
       "  <tbody>\n",
       "    <tr>\n",
       "      <th>3</th>\n",
       "      <td>0.0745</td>\n",
       "      <td>0.475000</td>\n",
       "    </tr>\n",
       "    <tr>\n",
       "      <th>10</th>\n",
       "      <td>0.0120</td>\n",
       "      <td>0.355000</td>\n",
       "    </tr>\n",
       "    <tr>\n",
       "      <th>30</th>\n",
       "      <td>0.0000</td>\n",
       "      <td>0.333333</td>\n",
       "    </tr>\n",
       "    <tr>\n",
       "      <th>100</th>\n",
       "      <td>0.0000</td>\n",
       "      <td>0.293333</td>\n",
       "    </tr>\n",
       "    <tr>\n",
       "      <th>300</th>\n",
       "      <td>0.0000</td>\n",
       "      <td>0.253333</td>\n",
       "    </tr>\n",
       "  </tbody>\n",
       "</table>\n",
       "</div>"
      ],
      "text/plain": [
       "     Train error  Test Error\n",
       "k                           \n",
       "3         0.0745    0.475000\n",
       "10        0.0120    0.355000\n",
       "30        0.0000    0.333333\n",
       "100       0.0000    0.293333\n",
       "300       0.0000    0.253333"
      ]
     },
     "execution_count": 37,
     "metadata": {},
     "output_type": "execute_result"
    }
   ],
   "source": [
    "max_features = int(np.sqrt(500))\n",
    "Train_forest(Train_data,Train_label,Valid_data,Valid_label,\"MADELON\",max_features=max_features)"
   ]
  },
  {
   "cell_type": "markdown",
   "metadata": {},
   "source": [
    "# Part D"
   ]
  },
  {
   "cell_type": "code",
   "execution_count": 38,
   "metadata": {},
   "outputs": [
    {
     "data": {
      "image/png": "[encoded data removed]",
      "text/plain": [
       "<Figure size 432x288 with 1 Axes>"
      ]
     },
     "metadata": {
      "needs_background": "light"
     },
     "output_type": "display_data"
    },
    {
     "data": {
      "text/html": [
       "<div>\n",
       "<style scoped>\n",
       "    .dataframe tbody tr th:only-of-type {\n",
       "        vertical-align: middle;\n",
       "    }\n",
       "\n",
       "    .dataframe tbody tr th {\n",
       "        vertical-align: top;\n",
       "    }\n",
       "\n",
       "    .dataframe thead th {\n",
       "        text-align: right;\n",
       "    }\n",
       "</style>\n",
       "<table border=\"1\" class=\"dataframe\">\n",
       "  <thead>\n",
       "    <tr style=\"text-align: right;\">\n",
       "      <th></th>\n",
       "      <th>Train error</th>\n",
       "      <th>Test Error</th>\n",
       "    </tr>\n",
       "    <tr>\n",
       "      <th>k</th>\n",
       "      <th></th>\n",
       "      <th></th>\n",
       "    </tr>\n",
       "  </thead>\n",
       "  <tbody>\n",
       "    <tr>\n",
       "      <th>3</th>\n",
       "      <td>0.0805</td>\n",
       "      <td>0.470000</td>\n",
       "    </tr>\n",
       "    <tr>\n",
       "      <th>10</th>\n",
       "      <td>0.0160</td>\n",
       "      <td>0.415000</td>\n",
       "    </tr>\n",
       "    <tr>\n",
       "      <th>30</th>\n",
       "      <td>0.0000</td>\n",
       "      <td>0.395000</td>\n",
       "    </tr>\n",
       "    <tr>\n",
       "      <th>100</th>\n",
       "      <td>0.0000</td>\n",
       "      <td>0.376667</td>\n",
       "    </tr>\n",
       "    <tr>\n",
       "      <th>300</th>\n",
       "      <td>0.0000</td>\n",
       "      <td>0.326667</td>\n",
       "    </tr>\n",
       "  </tbody>\n",
       "</table>\n",
       "</div>"
      ],
      "text/plain": [
       "     Train error  Test Error\n",
       "k                           \n",
       "3         0.0805    0.470000\n",
       "10        0.0160    0.415000\n",
       "30        0.0000    0.395000\n",
       "100       0.0000    0.376667\n",
       "300       0.0000    0.326667"
      ]
     },
     "execution_count": 38,
     "metadata": {},
     "output_type": "execute_result"
    }
   ],
   "source": [
    "max_features = int(np.log(500))\n",
    "Train_forest(Train_data,Train_label,Valid_data,Valid_label,\"MADELON\",max_features=max_features)"
   ]
  },
  {
   "cell_type": "markdown",
   "metadata": {},
   "source": [
    "# Part E"
   ]
  },
  {
   "cell_type": "code",
   "execution_count": 39,
   "metadata": {},
   "outputs": [
    {
     "data": {
      "image/png": "[encoded data removed]",
      "text/plain": [
       "<Figure size 432x288 with 1 Axes>"
      ]
     },
     "metadata": {
      "needs_background": "light"
     },
     "output_type": "display_data"
    },
    {
     "data": {
      "text/html": [
       "<div>\n",
       "<style scoped>\n",
       "    .dataframe tbody tr th:only-of-type {\n",
       "        vertical-align: middle;\n",
       "    }\n",
       "\n",
       "    .dataframe tbody tr th {\n",
       "        vertical-align: top;\n",
       "    }\n",
       "\n",
       "    .dataframe thead th {\n",
       "        text-align: right;\n",
       "    }\n",
       "</style>\n",
       "<table border=\"1\" class=\"dataframe\">\n",
       "  <thead>\n",
       "    <tr style=\"text-align: right;\">\n",
       "      <th></th>\n",
       "      <th>Train error</th>\n",
       "      <th>Test Error</th>\n",
       "    </tr>\n",
       "    <tr>\n",
       "      <th>k</th>\n",
       "      <th></th>\n",
       "      <th></th>\n",
       "    </tr>\n",
       "  </thead>\n",
       "  <tbody>\n",
       "    <tr>\n",
       "      <th>3</th>\n",
       "      <td>0.0485</td>\n",
       "      <td>0.256667</td>\n",
       "    </tr>\n",
       "    <tr>\n",
       "      <th>10</th>\n",
       "      <td>0.0085</td>\n",
       "      <td>0.231667</td>\n",
       "    </tr>\n",
       "    <tr>\n",
       "      <th>30</th>\n",
       "      <td>0.0010</td>\n",
       "      <td>0.158333</td>\n",
       "    </tr>\n",
       "    <tr>\n",
       "      <th>100</th>\n",
       "      <td>0.0000</td>\n",
       "      <td>0.150000</td>\n",
       "    </tr>\n",
       "    <tr>\n",
       "      <th>300</th>\n",
       "      <td>0.0000</td>\n",
       "      <td>0.151667</td>\n",
       "    </tr>\n",
       "  </tbody>\n",
       "</table>\n",
       "</div>"
      ],
      "text/plain": [
       "     Train error  Test Error\n",
       "k                           \n",
       "3         0.0485    0.256667\n",
       "10        0.0085    0.231667\n",
       "30        0.0010    0.158333\n",
       "100       0.0000    0.150000\n",
       "300       0.0000    0.151667"
      ]
     },
     "execution_count": 39,
     "metadata": {},
     "output_type": "execute_result"
    }
   ],
   "source": [
    "max_features = 500\n",
    "Train_forest(Train_data,Train_label,Valid_data,Valid_label,\"MADELON\",max_features=max_features)"
   ]
  },
  {
   "cell_type": "code",
   "execution_count": null,
   "metadata": {},
   "outputs": [],
   "source": []
  },
  {
   "cell_type": "code",
   "execution_count": null,
   "metadata": {},
   "outputs": [],
   "source": []
  }
 ],
 "metadata": {
  "kernelspec": {
   "display_name": "Python 3",
   "language": "python",
   "name": "python3"
  },
  "language_info": {
   "codemirror_mode": {
    "name": "ipython",
    "version": 3
   },
   "file_extension": ".py",
   "mimetype": "text/x-python",
   "name": "python",
   "nbconvert_exporter": "python",
   "pygments_lexer": "ipython3",
   "version": "3.7.3"
  }
 },
 "nbformat": 4,
 "nbformat_minor": 4
}
