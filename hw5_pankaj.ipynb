{
 "cells": [
  {
   "cell_type": "code",
   "execution_count": 1,
   "metadata": {},
   "outputs": [],
   "source": [
    "import numpy as np\n",
    "import matplotlib.pyplot as plt\n",
    "import pandas as pd\n",
    "import os"
   ]
  },
  {
   "cell_type": "code",
   "execution_count": 2,
   "metadata": {},
   "outputs": [],
   "source": [
    "#source_folder = \"//home//pc19d//Downloads//hw3//\"\n",
    "source_folder = \"C:\\\\Users\\\\18503\\\\Dropbox\\\\Course\\\\Applied Machine Learning\\\\Homework\\\\hw5\""
   ]
  },
  {
   "cell_type": "code",
   "execution_count": 3,
   "metadata": {},
   "outputs": [
    {
     "data": {
      "text/plain": [
       "['sat.doc',\n",
       " 'sat.trn',\n",
       " 'sat.tst',\n",
       " 'X.dat',\n",
       " 'Xtest.dat',\n",
       " 'Y.dat',\n",
       " 'Ytest.dat',\n",
       " '~$sat.doc']"
      ]
     },
     "execution_count": 3,
     "metadata": {},
     "output_type": "execute_result"
    }
   ],
   "source": [
    "os.listdir(os.path.join(source_folder,\"satimage\"))"
   ]
  },
  {
   "cell_type": "markdown",
   "metadata": {},
   "source": [
    "### PreProcessing"
   ]
  },
  {
   "cell_type": "code",
   "execution_count": 102,
   "metadata": {},
   "outputs": [],
   "source": [
    "def Preprocess(dataset,delimiter):\n",
    "\n",
    "    Train_data  = np.genfromtxt(os.path.join(source_folder,dataset,\"X.dat\"),delimiter = delimiter)\n",
    "    Train_label = np.genfromtxt(os.path.join(source_folder,dataset,\"Y.dat\"))\n",
    "    Test_data   = np.genfromtxt(os.path.join(source_folder,dataset,\"Xtest.dat\"),delimiter=delimiter)\n",
    "    Test_label  = np.genfromtxt(os.path.join(source_folder,dataset,\"Ytest.dat\"))\n",
    " \n",
    "    Train_label = np.array([\"C\"+str(i) for i in Train_label]).reshape(-1,1)\n",
    "    Test_label  = np.array([\"C\"+str(i) for i in Test_label]).reshape(-1,1)\n",
    "    \n",
    "    #Train_data = np.hstack((Train_data,Train_label))\n",
    "    #Test_data  = np.hstack((Test_data,Test_label))\n",
    "    Columns   = [\"X\"+str(i+1) for i in range(Train_data.shape[1])]\n",
    "    train_df  = pd.DataFrame(data=Train_data,columns = Columns)\n",
    "    test_df   = pd.DataFrame(data=Test_data,columns  = Columns)\n",
    "    train_df[\"Y\"]  = Train_label\n",
    "    test_df[\"Y\"]   = Test_label\n",
    "        \n",
    "    return train_df,Train_label,test_df,Test_label"
   ]
  },
  {
   "cell_type": "code",
   "execution_count": 103,
   "metadata": {},
   "outputs": [],
   "source": [
    "dataset  = str(\"satimage\")\n",
    "train_df,_,test_df,_ = Preprocess(dataset,delimiter=\"\")"
   ]
  },
  {
   "cell_type": "code",
   "execution_count": 104,
   "metadata": {},
   "outputs": [],
   "source": [
    "train_df.to_csv('train.csv',index=False)"
   ]
  },
  {
   "cell_type": "code",
   "execution_count": 105,
   "metadata": {},
   "outputs": [],
   "source": [
    "test_df.to_csv('test.csv',index=False)"
   ]
  },
  {
   "cell_type": "code",
   "execution_count": null,
   "metadata": {},
   "outputs": [],
   "source": []
  },
  {
   "cell_type": "markdown",
   "metadata": {},
   "source": [
    "# To plot"
   ]
  },
  {
   "cell_type": "code",
   "execution_count": 25,
   "metadata": {},
   "outputs": [
    {
     "data": {
      "text/html": [
       "<div>\n",
       "<style scoped>\n",
       "    .dataframe tbody tr th:only-of-type {\n",
       "        vertical-align: middle;\n",
       "    }\n",
       "\n",
       "    .dataframe tbody tr th {\n",
       "        vertical-align: top;\n",
       "    }\n",
       "\n",
       "    .dataframe thead th {\n",
       "        text-align: right;\n",
       "    }\n",
       "</style>\n",
       "<table border=\"1\" class=\"dataframe\">\n",
       "  <thead>\n",
       "    <tr style=\"text-align: right;\">\n",
       "      <th></th>\n",
       "      <th>0</th>\n",
       "      <th>1</th>\n",
       "      <th>2</th>\n",
       "      <th>3</th>\n",
       "      <th>4</th>\n",
       "      <th>5</th>\n",
       "      <th>6</th>\n",
       "      <th>7</th>\n",
       "      <th>8</th>\n",
       "      <th>9</th>\n",
       "      <th>10</th>\n",
       "      <th>11</th>\n",
       "    </tr>\n",
       "  </thead>\n",
       "  <tbody>\n",
       "    <tr>\n",
       "      <th>0</th>\n",
       "      <td>Decision Tree (J48)</td>\n",
       "      <td>Random Forest(100 tree)</td>\n",
       "      <td>Random Forest(300 tree)</td>\n",
       "      <td>Logistic Regression</td>\n",
       "      <td>Naïve Bayes</td>\n",
       "      <td>AdaBoost (20 Tree)</td>\n",
       "      <td>AdaBoost (100 test)</td>\n",
       "      <td>LogitBoost(10)</td>\n",
       "      <td>LogitBoost(100)</td>\n",
       "      <td>LogitBoost(100,95%)</td>\n",
       "      <td>LogitBoost(25 M5P)</td>\n",
       "      <td>SVM, C= 20,gamma = 10</td>\n",
       "    </tr>\n",
       "  </tbody>\n",
       "</table>\n",
       "</div>"
      ],
      "text/plain": [
       "                     0                        1                        2  \\\n",
       "0  Decision Tree (J48)  Random Forest(100 tree)  Random Forest(300 tree)   \n",
       "\n",
       "                     3            4                   5                    6  \\\n",
       "0  Logistic Regression  Naïve Bayes  AdaBoost (20 Tree)  AdaBoost (100 test)   \n",
       "\n",
       "                7                8                    9                  10  \\\n",
       "0  LogitBoost(10)  LogitBoost(100)  LogitBoost(100,95%)  LogitBoost(25 M5P)   \n",
       "\n",
       "                      11  \n",
       "0  SVM, C= 20,gamma = 10  "
      ]
     },
     "execution_count": 25,
     "metadata": {},
     "output_type": "execute_result"
    },
    {
     "data": {
      "image/png": "[encoded data removed]",
      "text/plain": [
       "<Figure size 1080x360 with 1 Axes>"
      ]
     },
     "metadata": {
      "needs_background": "light"
     },
     "output_type": "display_data"
    }
   ],
   "source": [
    "fig, ax = plt.subplots(figsize=(15,5))\n",
    "\n",
    "time  = np.array([0.17,1.78,4.93,1.58,0.21,0.16,0.15,2.79,19.77,3.14,42.55,5.39])\n",
    "error = np.array([14.2232,8.42,8.7527,15.6455,16.5208,58.25,58.25,15.3,11.85,12.05,9.1,8.2])\n",
    "label = np.array([\"Decision Tree (J48)\",\"Random Forest(100 tree)\",\"Random Forest(300 tree)\",\"Logistic Regression\",\"Naïve Bayes\",\"AdaBoost (20 Tree)\",\n",
    "\"AdaBoost (100 test)\",\"LogitBoost(10)\",\"LogitBoost(100)\",\"LogitBoost(100,95%)\",\"LogitBoost(25 M5P)\",\"SVM, C= 20,gamma = 10\"])\n",
    "index = [i+1 for i in range(len(label))]\n",
    "\n",
    "ax.scatter(time,error,s=100)\n",
    "ax.set_xscale('log')\n",
    "ax.set_xlabel(\"log(time) (in sec)\",fontsize=18)\n",
    "ax.set_ylabel(\"Test misclassification error (in %)\",fontsize=18)\n",
    "\n",
    "for i, txt in enumerate(index):\n",
    "    ax.annotate(str(txt), (time[i], error[i]))#,xytext=(0,10))#, # distance from text to points (x,y))\n",
    "\n",
    "pd.DataFrame([label])"
   ]
  },
  {
   "cell_type": "code",
   "execution_count": null,
   "metadata": {},
   "outputs": [],
   "source": []
  }
 ],
 "metadata": {
  "kernelspec": {
   "display_name": "Python 3",
   "language": "python",
   "name": "python3"
  },
  "language_info": {
   "codemirror_mode": {
    "name": "ipython",
    "version": 3
   },
   "file_extension": ".py",
   "mimetype": "text/x-python",
   "name": "python",
   "nbconvert_exporter": "python",
   "pygments_lexer": "ipython3",
   "version": "3.7.3"
  }
 },
 "nbformat": 4,
 "nbformat_minor": 4
}
