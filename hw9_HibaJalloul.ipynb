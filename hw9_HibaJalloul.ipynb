{
 "cells": [
  {
   "cell_type": "markdown",
   "metadata": {},
   "source": [
    "# Homework 9\n",
    "# Done By: Hiba Jalloul and Pankaj Chouhan"
   ]
  },
  {
   "cell_type": "code",
   "execution_count": 564,
   "metadata": {},
   "outputs": [],
   "source": [
    "import pandas as pd\n",
    "import numpy as np\n",
    "from sklearn.cluster import KMeans\n",
    "from matplotlib import pyplot as plt\n",
    "from scipy.stats import multivariate_normal\n",
    "from random import random, randint"
   ]
  },
  {
   "cell_type": "markdown",
   "metadata": {},
   "source": [
    "# EM "
   ]
  },
  {
   "cell_type": "code",
   "execution_count": 378,
   "metadata": {},
   "outputs": [],
   "source": [
    "def EM_init (x, it):\n",
    "    n = len(x)\n",
    "    mu1 = np.zeros((it,2))\n",
    "    mu2 = np.zeros((it,2))\n",
    "    sigma1 = np.zeros((it,2,2))\n",
    "    sigma2 = np.zeros((it,2,2))\n",
    "    pi1 = np.zeros(it)\n",
    "    pi2 = np.zeros(it)\n",
    "\n",
    "    kmeans = KMeans(n_clusters=2, random_state=0).fit(x)\n",
    "    y = kmeans.predict(x)\n",
    "\n",
    "    pi1[0] = len(y[y==0])/n\n",
    "    pi2[0] =  len(y[y==1])/n\n",
    "    \n",
    "    mu1[0] = kmeans.cluster_centers_[0]\n",
    "    mu2[0] = kmeans.cluster_centers_[1]\n",
    "    \n",
    "    sigma1[0] = np.cov(x[y==0],rowvar=False)\n",
    "    sigma2[0] = np.cov(x[y==1],rowvar=False)\n",
    "    \n",
    "    return pi1, pi2, mu1, mu2, sigma1, sigma2\n",
    "\n",
    "def EM(x, pi1, pi2, mu1, mu2, sigma1, sigma2):\n",
    "    n = len(x)\n",
    "    ll = {}\n",
    "    ll[0] = sum(np.log( pi1[0]*multivariate_normal.pdf(x,mu1[0],sigma1[0]) + pi2[0]*multivariate_normal.pdf(x,mu2[0],sigma2[0]) ))\n",
    "\n",
    "    for i in range(1,len(mu1)):\n",
    "        # Expectation Step - Conditional Probabilities\n",
    "        y1 = (pi1[i-1]*multivariate_normal.pdf(x,mu1[i-1],sigma1[i-1]))/(pi1[i-1]*multivariate_normal.pdf(x,mu1[i-1],sigma1[i-1]) + pi2[i-1]*multivariate_normal.pdf(x,mu2[i-1],sigma2[i-1]))\n",
    "        y2 = (pi2[i-1]*multivariate_normal.pdf(x,mu2[i-1],sigma2[i-1]))/(pi1[i-1]*multivariate_normal.pdf(x,mu1[i-1],sigma1[i-1]) + pi2[i-1]*multivariate_normal.pdf(x,mu2[i-1],sigma2[i-1]))\n",
    "\n",
    "        # Maximization Step\n",
    "        pi1[i] = sum(y1) / n\n",
    "        pi2[i] = sum(y2) / n\n",
    "\n",
    "        mu1[i] = sum(y1[:,None]*x) / sum(y1)\n",
    "        mu2[i] = sum(y2[:,None]*x) / sum(y2)\n",
    "        \n",
    "        sigma1[i] = np.transpose(np.multiply(x-mu1[i],np.transpose(np.mat(y1)))) * (x-mu1[i]) / sum(y1)\n",
    "        sigma2[i] = np.transpose(np.multiply(x-mu2[i],np.transpose(np.mat(y2)))) * (x-mu2[i]) / sum(y2)\n",
    "\n",
    "        # Loglikelihood\n",
    "        ll[i] = sum(np.log( pi1[i]*multivariate_normal.pdf(x,mu1[i],sigma1[i]) + pi2[i]*multivariate_normal.pdf(x,mu2[i],sigma2[i]) ))\n",
    "        if abs(ll[i]-ll[i-1])<= 1e-6:\n",
    "            break\n",
    "    print('Number of iterations till convergence = ',i)\n",
    "    print('Pi1 = ' ,pi1[i], '\\nPi2 = ', pi2[i],'\\nMU1 = ', mu1[i],'\\nMU2 = ', mu2[i],'\\nCov1 = ', sigma1[i],'\\nCov2 = ', sigma2[i]) "
   ]
  },
  {
   "cell_type": "markdown",
   "metadata": {},
   "source": [
    "## 1- a) xeasy Data - EM"
   ]
  },
  {
   "cell_type": "code",
   "execution_count": 386,
   "metadata": {},
   "outputs": [
    {
     "name": "stdout",
     "output_type": "stream",
     "text": [
      "Number of iterations till convergence =  11\n",
      "Pi1 =  0.5911645391966039 \n",
      "Pi2 =  0.4088354608033957 \n",
      "MU1 =  [ 3.01884339 -0.17709437] \n",
      "MU2 =  [0.02845147 3.07054136] \n",
      "Cov1 =  [[1.00530907 0.16004762]\n",
      " [0.16004762 0.94212979]] \n",
      "Cov2 =  [[ 1.01846298 -0.0585727 ]\n",
      " [-0.0585727   0.95453142]]\n"
     ]
    }
   ],
   "source": [
    "x = pd.read_csv('xeasy.txt', header = None).to_numpy()\n",
    "param = EM_init(x,100)\n",
    "EM(x, param[0],param[1],param[2],param[3],param[4],param[5])"
   ]
  },
  {
   "cell_type": "markdown",
   "metadata": {},
   "source": [
    "## 1- b) x1 Data - EM"
   ]
  },
  {
   "cell_type": "code",
   "execution_count": 390,
   "metadata": {},
   "outputs": [
    {
     "name": "stdout",
     "output_type": "stream",
     "text": [
      "Number of iterations till convergence =  128\n",
      "Pi1 =  0.652531726795146 \n",
      "Pi2 =  0.347468273204854 \n",
      "MU1 =  [-0.10092945  1.97348592] \n",
      "MU2 =  [2.08399969 0.12486097] \n",
      "Cov1 =  [[1.70370708 0.14914392]\n",
      " [0.14914392 2.19983907]] \n",
      "Cov2 =  [[ 0.86282012 -0.03909889]\n",
      " [-0.03909889  1.05880181]]\n"
     ]
    }
   ],
   "source": [
    "x = pd.read_csv('x1.txt', header = None).to_numpy()\n",
    "param = EM_init(x,150)\n",
    "EM(x, param[0],param[1],param[2],param[3],param[4],param[5])"
   ]
  },
  {
   "cell_type": "markdown",
   "metadata": {},
   "source": [
    "## 1- c) x2 Data - EM"
   ]
  },
  {
   "cell_type": "code",
   "execution_count": 388,
   "metadata": {},
   "outputs": [
    {
     "name": "stdout",
     "output_type": "stream",
     "text": [
      "Number of iterations till convergence =  63\n",
      "Pi1 =  0.5120415558210427 \n",
      "Pi2 =  0.4879584441789575 \n",
      "MU1 =  [ 0.01426876 -0.04650351] \n",
      "MU2 =  [ 0.17809457 -0.1252182 ] \n",
      "Cov1 =  [[1.06284512 0.06639239]\n",
      " [0.06639239 0.88839857]] \n",
      "Cov2 =  [[9.25900786 0.76787325]\n",
      " [0.76787325 9.41547704]]\n"
     ]
    }
   ],
   "source": [
    "x = pd.read_csv('x2.txt', header = None).to_numpy()\n",
    "param = EM_init(x,100)\n",
    "EM(x, param[0],param[1],param[2],param[3],param[4],param[5])"
   ]
  },
  {
   "cell_type": "markdown",
   "metadata": {},
   "source": [
    "# Provable EM"
   ]
  },
  {
   "cell_type": "code",
   "execution_count": null,
   "metadata": {},
   "outputs": [],
   "source": [
    "def ProvableEM (x, l, it):\n",
    "    pi, mu, sigma = PEM_init(x, l, it)\n",
    "    pi, mu, sigma = PEM(x, pi, mu, sigma)\n",
    "    pi, mu, sigma = Pruning(pi, mu, sigma)\n",
    "    pi1, pi2, mu1, mu2, sigma1, sigma2 = Pruning_to_EM(it, pi, mu, sigma)\n",
    "    EM(x, pi1, pi2, mu1, mu2, sigma1, sigma2)\n",
    "    \n",
    "    \n",
    "def PEM_init (x, l, it):\n",
    "    seed(1)\n",
    "    pi = np.zeros((l,it))\n",
    "    pi[:,0] = 1/l\n",
    "\n",
    "    mu = np.zeros((l,it,2))\n",
    "    for i in range(l):\n",
    "        mu[i,0,0] = random()\n",
    "        mu[i,0,1] = random()\n",
    "        \n",
    "    sigma = np.zeros((l,it,2,2))\n",
    "    for i in range(l):\n",
    "        norms = []\n",
    "        for j in range(l):\n",
    "            norms.append(np.linalg.norm(mu[i][0]-mu[j][0]))\n",
    "        sigma[i][0][0][0] = sorted(norms)[1]\n",
    "        sigma[i][0][1][1] = sorted(norms)[1]\n",
    "    \n",
    "    return pi, mu, sigma\n",
    "\n",
    "\n",
    "def PEM(x, pi, mu, sigma):\n",
    "    n = len(x)  #Number of observations\n",
    "    l = len(pi)  #Number of clusters\n",
    "    it = len(pi[0])   #Number of iterations\n",
    "    ll = {}\n",
    "    \n",
    "    # Initial Loglikelihood\n",
    "    a = 0\n",
    "    for j in range(l):\n",
    "        a += pi[j][0]*multivariate_normal.pdf(x,mu[j][0],sigma[j][0])\n",
    "    ll[0] = sum(np.log(a))\n",
    "\n",
    "    for i in range(1,it):\n",
    "        \n",
    "        # Expectation Step - Conditional Probabilities\n",
    "        d = 0\n",
    "        for k in range(l):\n",
    "            d += pi[k][i-1]*multivariate_normal.pdf(x,mu[k][i-1],sigma[k][i-1])  \n",
    "        y = []\n",
    "        for j in range(l):\n",
    "            y.append((pi[j][i-1]*multivariate_normal.pdf(x,mu[j][i-1],sigma[j][i-1]))/d)\n",
    "        \n",
    "        # Maximization Step\n",
    "        for j in range(l):\n",
    "            pi[j][i] = sum(y[j])/n\n",
    "            mu[j][i] = sum(y[j][:,None]*x) / sum(y[j])\n",
    "            sigma[j][i] = np.transpose(np.multiply(x-mu[j][i],np.transpose(np.mat(y[j])))) * (x-mu[j][i]) / sum(y[j])\n",
    "        \n",
    "        # Loglikelihood\n",
    "        a = 0\n",
    "        for j in range(l):\n",
    "            a += pi[j][i]*multivariate_normal.pdf(x,mu[j][i],sigma[j][i])\n",
    "        ll[i] = sum(np.log(a))\n",
    "\n",
    "        if abs(ll[i]-ll[i-1])<= 1e-6:\n",
    "            break\n",
    "\n",
    "    return pi[:,i], mu[:,i], sigma[:,i]\n",
    "\n",
    "\n",
    "def Pruning (pi, mu, sigma):\n",
    "    l = len(pi) #initial number of clusters\n",
    "    \n",
    "    # Removing clusters with small pi\n",
    "    keep = pi>= (1/(4*l)) #clusters to be kept\n",
    "    pi = pi[keep]\n",
    "    mu = mu[keep]\n",
    "    sigma = sigma[keep]\n",
    "    \n",
    "    #Select k centers furthest from each other\n",
    "    l = len(pi)  #updated number of clusters\n",
    "    first = randint(0,l-1)  #Select one random cluster\n",
    "    norms = []\n",
    "    for j in range(l):\n",
    "        norms.append(np.linalg.norm(mu[first]-mu[j]))\n",
    "    d = sorted(norms)[l-1]\n",
    "    second = norms.index(d)   #Select the second cluster with the maximum distance to the 1st one\n",
    "    keep = [first,second]    #clusters to be kept\n",
    "    pi = pi[keep]\n",
    "    mu = mu[keep]\n",
    "    sigma = sigma[keep]\n",
    "\n",
    "    return pi, mu, sigma\n",
    "    \n",
    "    \n",
    "def Pruning_to_EM(it,pi,mu,sigma):\n",
    "    mu1 = np.zeros((it,2))\n",
    "    mu2 = np.zeros((it,2))\n",
    "    sigma1 = np.zeros((it,2,2))\n",
    "    sigma2 = np.zeros((it,2,2))\n",
    "    pi1 = np.zeros(it)\n",
    "    pi2 = np.zeros(it)\n",
    "\n",
    "    pi1[0] = pi[0]\n",
    "    pi2[0] = pi[1]\n",
    "\n",
    "    mu1[0] = mu[0]\n",
    "    mu2[0] = mu[1]\n",
    "\n",
    "    sigma1[0] = sigma[0]\n",
    "    sigma2[0] = sigma[1]\n",
    "\n",
    "    return pi1, pi2, mu1, mu2, sigma1, sigma2"
   ]
  },
  {
   "cell_type": "markdown",
   "metadata": {},
   "source": [
    "## 2- a) xeasy Data - Provable EM"
   ]
  },
  {
   "cell_type": "code",
   "execution_count": 616,
   "metadata": {},
   "outputs": [
    {
     "name": "stdout",
     "output_type": "stream",
     "text": [
      "Number of iterations till convergence =  25\n",
      "Pi1 =  0.5911508303123365 \n",
      "Pi2 =  0.4088491696876623 \n",
      "MU1 =  [ 3.01887781 -0.17712928] \n",
      "MU2 =  [0.02850196 3.07048294] \n",
      "Cov1 =  [[1.00526613 0.16009589]\n",
      " [0.16009589 0.9420875 ]] \n",
      "Cov2 =  [[ 1.01852677 -0.0586482 ]\n",
      " [-0.0586482   0.95461792]]\n"
     ]
    }
   ],
   "source": [
    "x = pd.read_csv('xeasy.txt', header = None).to_numpy()\n",
    "ProvableEM (x, 8, 50)"
   ]
  },
  {
   "cell_type": "markdown",
   "metadata": {},
   "source": [
    "## 2- b) x1 Data - Provable EM"
   ]
  },
  {
   "cell_type": "code",
   "execution_count": 622,
   "metadata": {},
   "outputs": [
    {
     "name": "stdout",
     "output_type": "stream",
     "text": [
      "Number of iterations till convergence =  57\n",
      "Pi1 =  0.3470288143774014 \n",
      "Pi2 =  0.6529711856225996 \n",
      "MU1 =  [2.08485114 0.12385531] \n",
      "MU2 =  [-0.09991148  1.97277624] \n",
      "Cov1 =  [[ 0.86226216 -0.0387252 ]\n",
      " [-0.0387252   1.0577065 ]] \n",
      "Cov2 =  [[1.70467175 0.14810574]\n",
      " [0.14810574 2.1999761 ]]\n"
     ]
    }
   ],
   "source": [
    "x = pd.read_csv('x1.txt', header = None).to_numpy()\n",
    "ProvableEM (x, 8, 150)"
   ]
  },
  {
   "cell_type": "markdown",
   "metadata": {},
   "source": [
    "## 2- c) x2 Data - Provable EM"
   ]
  },
  {
   "cell_type": "code",
   "execution_count": 619,
   "metadata": {},
   "outputs": [
    {
     "name": "stdout",
     "output_type": "stream",
     "text": [
      "Number of iterations till convergence =  55\n",
      "Pi1 =  0.4881095760437188 \n",
      "Pi2 =  0.5118904239562811 \n",
      "MU1 =  [ 0.1780944 -0.1251714] \n",
      "MU2 =  [ 0.01422056 -0.0465249 ] \n",
      "Cov1 =  [[9.25715867 0.76776777]\n",
      " [0.76776777 9.4131219 ]] \n",
      "Cov2 =  [[1.06218068 0.06628234]\n",
      " [0.06628234 0.88813193]]\n"
     ]
    }
   ],
   "source": [
    "x = pd.read_csv('x2.txt', header = None).to_numpy()\n",
    "ProvableEM (x, 8, 100)"
   ]
  }
 ],
 "metadata": {
  "kernelspec": {
   "display_name": "Python 3",
   "language": "python",
   "name": "python3"
  },
  "language_info": {
   "codemirror_mode": {
    "name": "ipython",
    "version": 3
   },
   "file_extension": ".py",
   "mimetype": "text/x-python",
   "name": "python",
   "nbconvert_exporter": "python",
   "pygments_lexer": "ipython3",
   "version": "3.8.5"
  }
 },
 "nbformat": 4,
 "nbformat_minor": 4
}
