{
 "cells": [
  {
   "cell_type": "code",
   "execution_count": 1,
   "metadata": {
    "scrolled": true
   },
   "outputs": [],
   "source": [
    "import os\n",
    "import glob\n",
    "import sys\n",
    "import h5py\n",
    "import matplotlib.pyplot as plt\n",
    "import numpy as np\n",
    "from torch.utils.data import DataLoader, TensorDataset\n",
    "from torch import Tensor\n",
    "import torch.nn as nn\n",
    "from torch.autograd import Variable\n",
    "import torch\n",
    "import functools\n",
    "import operator\n",
    "import torch.optim as optim\n",
    "\n",
    "device = torch.device('cuda:0' if torch.cuda.is_available() else 'cpu')"
   ]
  },
  {
   "cell_type": "code",
   "execution_count": 2,
   "metadata": {},
   "outputs": [
    {
     "data": {
      "text/plain": [
       "'/home/pc19d/hw8'"
      ]
     },
     "execution_count": 2,
     "metadata": {},
     "output_type": "execute_result"
    }
   ],
   "source": [
    "pwd"
   ]
  },
  {
   "cell_type": "code",
   "execution_count": 3,
   "metadata": {},
   "outputs": [],
   "source": [
    "source_folder = \"//home//pc19d//hw8\""
   ]
  },
  {
   "cell_type": "code",
   "execution_count": 4,
   "metadata": {},
   "outputs": [
    {
     "data": {
      "text/plain": [
       "['cnntrain.zip',\n",
       " '.ipynb_checkpoints',\n",
       " 'cnntest',\n",
       " 'model',\n",
       " 'hw8_cuda_pankaj.ipynb',\n",
       " 'cnntrain',\n",
       " 'cnntest.zip',\n",
       " 'Untitled.ipynb']"
      ]
     },
     "execution_count": 4,
     "metadata": {},
     "output_type": "execute_result"
    }
   ],
   "source": [
    "os.listdir(source_folder)"
   ]
  },
  {
   "cell_type": "code",
   "execution_count": 5,
   "metadata": {},
   "outputs": [],
   "source": [
    "class MyDataset(torch.utils.data.Dataset):\n",
    "    \n",
    "    def __init__(self,folder,train):\n",
    "        super(MyDataset, self).__init__()\n",
    "        self.train = train\n",
    "        self.folder = folder\n",
    "        self.label_mean = 52.90\n",
    "        if self.train:\n",
    "            self.root = os.path.join(self.folder,\"cnntrain\")\n",
    "        else:\n",
    "            self.root = os.path.join(self.folder,\"cnntest\")\n",
    "        self.files = os.listdir(self.root) # take all files in the root directory\n",
    "    \n",
    "    \n",
    "    def __len__(self):\n",
    "        return len(self.files)\n",
    "   \n",
    "    def __getitem__(self, idx):\n",
    "        #sample, label = torch.load(os.path.join(self.root, self.files[idx])) # load the features of this sample\n",
    "        sample = plt.imread(os.path.join(self.root, self.files[idx]))\n",
    "        sample = np.moveaxis(sample,-1,0)\n",
    "        label  = np.array(float((self.files[idx][-20:-18]))-self.label_mean).astype(float)\n",
    "        #print(label)\n",
    "        sample,label = torch.from_numpy(sample).type(torch.FloatTensor),torch.from_numpy(label).type(torch.FloatTensor)\n",
    "        #label = label.view(-1,1)\n",
    "        return sample, label"
   ]
  },
  {
   "cell_type": "code",
   "execution_count": 6,
   "metadata": {},
   "outputs": [],
   "source": [
    "class CNN(nn.Module):\n",
    "    r\"\"\"Implements the middel part of the FFDNet architecture, which\n",
    "    is basically a DnCNN net\n",
    "    \"\"\"\n",
    "    def __init__(self,in_channels, out_channels, input_dim):\n",
    "        super(CNN, self).__init__()\n",
    "        layers = []\n",
    "        layers.append(nn.Conv2d(in_channels=in_channels,out_channels=32,kernel_size=5,padding=1,bias=False,dilation=2))\n",
    "        \n",
    "        for _ in range(1):\n",
    "            layers.append(nn.Conv2d(in_channels=32,\\\n",
    "                                    out_channels=32,\\\n",
    "                                    kernel_size=5,\\\n",
    "                                    padding=1,\\\n",
    "                                    bias=False,dilation=2))\n",
    "            layers.append(nn.BatchNorm2d(32))\n",
    "            layers.append(nn.ReLU(inplace=True))\n",
    "        \n",
    "        layers.append(nn.Conv2d(in_channels=32,out_channels=16,kernel_size=5,padding=1,bias=False,dilation=2))\n",
    "        layers.append(nn.BatchNorm2d(16))\n",
    "        layers.append(nn.MaxPool2d(2,2))\n",
    "        layers.append(nn.ReLU(inplace=True))\n",
    "        \n",
    "        layers.append(nn.Conv2d(in_channels=16,out_channels=8,kernel_size=2,padding=1,bias=False,dilation=2))\n",
    "        layers.append(nn.BatchNorm2d(8))\n",
    "        layers.append(nn.ReLU(inplace=True))\n",
    "        layers.append(nn.MaxPool2d(2,2))\n",
    "            \n",
    "        self.feature_extractor = nn.Sequential(*layers)\n",
    "        \n",
    "        \n",
    "        num_features_before_fcnn = functools.reduce(operator.mul, list(self.feature_extractor(torch.rand(1, *input_dim)).shape))\n",
    "\n",
    "        self.classifier = nn.Sequential(\n",
    "            nn.Linear(in_features=num_features_before_fcnn, out_features=10),\n",
    "            nn.Linear(in_features=10, out_features=out_channels),\n",
    "        )\n",
    "        \n",
    "    def forward(self, x):\n",
    "        out = self.feature_extractor(x)\n",
    "        out = out.view(x.size(0), -1)  # flatten the vector\n",
    "        out = self.classifier(out)\n",
    "        return out"
   ]
  },
  {
   "cell_type": "code",
   "execution_count": 7,
   "metadata": {},
   "outputs": [],
   "source": [
    "def main():\n",
    "    \n",
    "    #train_data =  np.moveaxis(train_data,-1,1)\n",
    "    #test_data  =  np.moveaxis(test_data,-1,1)\n",
    "    #N_train,N_test  = train_data.shape[0],test_data.shape[0]\n",
    "    \n",
    "    #print(train_data.shape,test_data.shape)\n",
    "    \n",
    "    #dataset_train = TensorDataset( Tensor(train_data), Tensor(train_label))\n",
    "    #dataset_val   = TensorDataset( Tensor(test_data), Tensor(test_label))\n",
    "    \n",
    "    source_folder = \"//home//pc19d//hw8\"\n",
    "    dataset_train = MyDataset(folder=source_folder,train=True)\n",
    "    dataset_val   = MyDataset(folder=source_folder,train=False)\n",
    "    N_train = 18059\n",
    "    N_test = 2261\n",
    "    \n",
    "    # defining the model\n",
    "    input_dim = (3,64,64)\n",
    "    model = CNN(3,1,input_dim)\n",
    "\n",
    "    # Define loss\n",
    "    criterion = nn.MSELoss(reduction='sum')\n",
    "    \n",
    "    # Optimizer\n",
    "    optimizer = optim.SGD(model.parameters(), lr=1e-6, momentum=0.9,weight_decay = 0.0001)\n",
    "    \n",
    "    \n",
    "    # Move to GPU\n",
    "    device_ids = [0]\n",
    "    model.to(device)\n",
    "    criterion.to(device)\n",
    "\n",
    "    \n",
    "    test_loss  = []\n",
    "    train_loss = []\n",
    "    \n",
    "    R2_test  = []\n",
    "    R2_train = []\n",
    "    \n",
    "    \n",
    "    for epoch in range(100): \n",
    "        \n",
    "        batch_size = 0\n",
    "        if epoch <= 20:\n",
    "            batch_size = 32\n",
    "        elif epoch > 20 and epoch <= 40:\n",
    "            batch_size = 64\n",
    "        elif epoch > 40 and epoch <= 60:\n",
    "            batch_size = 128          \n",
    "        elif epoch > 60 and epoch <= 80:\n",
    "            batch_size = 256\n",
    "        else:\n",
    "            batch_size = 512\n",
    "        \n",
    "        if epoch in list([0,21,41,61,81]):\n",
    "            loader_train  = DataLoader(dataset=dataset_train, batch_size = batch_size)\n",
    "            loader_test   = DataLoader(dataset=dataset_val,batch_size = batch_size)\n",
    "            \n",
    "        running_train_loss = 0\n",
    "        running_test_loss  = 0\n",
    "        predictions_train, actuals_train = list(), list()\n",
    "        \n",
    "        \n",
    "        for data,label in loader_train:\n",
    "            \n",
    "            #print(data.shape,label.shape)\n",
    "            # Pre-training step\n",
    "            model.train()\n",
    "            model.zero_grad()\n",
    "            optimizer.zero_grad()\n",
    "            \n",
    "            img_train = Variable(data.to(device))\n",
    "            label     = Variable(label.to(device))\n",
    "            out_train = model(img_train)\n",
    "            #print(label.size(),out_train.size())\n",
    "            label = label.unsqueeze(1)\n",
    "            \n",
    "            #print(label.size(),out_train.size())\n",
    "            #sys.exit()\n",
    "            loss = criterion(out_train, label)\n",
    "            loss.backward()\n",
    "            optimizer.step()\n",
    "            running_train_loss += loss.item()\n",
    "            \n",
    "            model.eval()\n",
    "            with torch.no_grad():\n",
    "                y_predicted_train_batch = model(img_train)\n",
    "                actual = label.cpu().numpy() #In case if there's shuffling of data\n",
    "                actual = actual.reshape((len(actual), 1))\n",
    "                # round to class values\n",
    "                #y_predicted_train_batch = y_predicted_train_batch.round()\n",
    "                # store\n",
    "                \n",
    "                for element in y_predicted_train_batch:\n",
    "                    predictions_train.append(element)\n",
    "                for element in actual:\n",
    "                    actuals_train.append(element)\n",
    "                    \n",
    "                #pint(np.array(predictions_train).shape,np.array(actuals_train).shape)\n",
    "            \n",
    "            model.train()\n",
    "            \n",
    "            #print(loss.item())\n",
    "\n",
    "        train_loss.append(running_train_loss/N_train)\n",
    "        actuals_train,predictions_train = np.array(actuals_train).flatten(),np.array(predictions_train).flatten()\n",
    "        \n",
    "        #print(actuals_train.shape,predictions_train.shape)\n",
    "        y_bar_train = np.mean(actuals_train)\n",
    "        \n",
    "        assert actuals_train.shape ==  predictions_train.shape\n",
    "        \n",
    "        R2_train.append(1 - np.sum(np.square(actuals_train -  predictions_train)) / np.sum(np.square(actuals_train -  y_bar_train)))\n",
    "    \n",
    "        model.eval()\n",
    "        predictions_test, actuals_test = list(), list()\n",
    "        \n",
    "        with torch.no_grad():\n",
    "            for inputs, labels in loader_test:\n",
    "                \n",
    "                y_predicted_on_current_batch = model(inputs.to(device))\n",
    "                labels = labels.to(device)\n",
    "                labels = labels.unsqueeze(1)\n",
    "                \n",
    "                #print(labels.size(),y_predicted_on_current_batch.size())\n",
    "                #sys.exit()\n",
    "                batch_loss = criterion(y_predicted_on_current_batch, labels)\n",
    "                running_test_loss += batch_loss.item()\n",
    "\n",
    "                actual = labels.cpu().numpy() #In case if there's shuffling of data\n",
    "                actual = actual.reshape((len(actual), 1))\n",
    "                # round to class values\n",
    "                #y_predicted_on_current_batch = y_predicted_on_current_batch.round()\n",
    "                # store\n",
    "                \n",
    "                for element in y_predicted_on_current_batch:\n",
    "                    predictions_test.append(element)\n",
    "                for element in actual:\n",
    "                    actuals_test.append(element)\n",
    " \n",
    "        \n",
    "    \n",
    "        test_loss.append(running_test_loss/N_test)\n",
    "        actuals_test,predictions_test = np.array(actuals_test).flatten(),np.array(predictions_test).flatten()\n",
    "        #print(actuals_test.shape,predictions_test.shape)\n",
    "        assert actuals_test.shape ==  predictions_test.shape\n",
    "        \n",
    "        #y_bar_test  = np.mean(actuals_test)\n",
    "        R2_test.append(1 - np.sum(np.square(actuals_test -  predictions_test)) / np.sum(np.square(actuals_test -  y_bar_train)))\n",
    "        \n",
    "        model.train()\n",
    "        print(R2_test[-1],R2_train[-1],test_loss[-1],train_loss[-1])\n",
    "        \n",
    "    torch.save(model.state_dict(), os.path.join(source_folder,\"model\",\"NetA.pt\"))\n",
    "    return R2_test,R2_train,test_loss,train_loss"
   ]
  },
  {
   "cell_type": "code",
   "execution_count": 8,
   "metadata": {
    "scrolled": false
   },
   "outputs": [
    {
     "name": "stderr",
     "output_type": "stream",
     "text": [
      "/home/pc19d/.conda/envs/ml/lib/python3.7/site-packages/ipykernel_launcher.py:24: UserWarning: The given NumPy array is not writeable, and PyTorch does not support non-writeable tensors. This means you can write to the underlying (supposedly non-writeable) NumPy array using the tensor. You may want to copy the array to protect its data or make it writeable before converting it to a tensor. This type of warning will be suppressed for the rest of this program. (Triggered internally at  /opt/conda/conda-bld/pytorch_1603729047590/work/torch/csrc/utils/tensor_numpy.cpp:141.)\n"
     ]
    },
    {
     "name": "stdout",
     "output_type": "stream",
     "text": [
      "tensor([0.8289], device='cuda:0') tensor([0.5511], device='cuda:0') 129.87273449161736 182.20020164617753\n",
      "tensor([0.8732], device='cuda:0') tensor([0.8440], device='cuda:0') 96.21707891627045 83.26335977408252\n",
      "tensor([0.8926], device='cuda:0') tensor([0.8624], device='cuda:0') 81.47599668979434 71.21286894719435\n",
      "tensor([0.8639], device='cuda:0') tensor([0.8758], device='cuda:0') 103.2694655987395 64.92997729447575\n",
      "tensor([0.8568], device='cuda:0') tensor([0.8847], device='cuda:0') 108.63475093984962 60.42032896756162\n",
      "tensor([0.8774], device='cuda:0') tensor([0.8892], device='cuda:0') 93.0333740018417 57.03695409174767\n",
      "tensor([0.8813], device='cuda:0') tensor([0.8933], device='cuda:0') 90.08282921515645 54.18972374438527\n",
      "tensor([0.8679], device='cuda:0') tensor([0.8984], device='cuda:0') 100.22020361392913 51.79184805070901\n",
      "tensor([0.8748], device='cuda:0') tensor([0.9012], device='cuda:0') 94.97635669193664 49.72571679012899\n",
      "tensor([0.8700], device='cuda:0') tensor([0.9057], device='cuda:0') 98.6133551616576 47.95964349486568\n",
      "tensor([0.8651], device='cuda:0') tensor([0.9072], device='cuda:0') 102.37705046811077 46.54035163151478\n",
      "tensor([0.8732], device='cuda:0') tensor([0.9092], device='cuda:0') 96.24585068916547 45.289069551877375\n",
      "tensor([0.8826], device='cuda:0') tensor([0.9116], device='cuda:0') 89.06537245860515 43.942105676929934\n",
      "tensor([0.8747], device='cuda:0') tensor([0.9133], device='cuda:0') 95.07271449389789 42.72383416193428\n",
      "tensor([0.8754], device='cuda:0') tensor([0.9140], device='cuda:0') 94.5320704247982 41.62935381354443\n",
      "tensor([0.8739], device='cuda:0') tensor([0.9134], device='cuda:0') 95.66624810388794 40.513508904474676\n",
      "tensor([0.8629], device='cuda:0') tensor([0.9164], device='cuda:0') 104.02195959078533 39.38643020096725\n",
      "tensor([0.8713], device='cuda:0') tensor([0.9187], device='cuda:0') 97.67920764111565 38.18490784107117\n",
      "tensor([0.8720], device='cuda:0') tensor([0.9198], device='cuda:0') 97.13432544841538 37.323367149200514\n",
      "tensor([0.8850], device='cuda:0') tensor([0.9227], device='cuda:0') 87.27874078290856 36.126357262485335\n",
      "tensor([0.8762], device='cuda:0') tensor([0.9234], device='cuda:0') 93.96254503806045 35.22960282069147\n",
      "tensor([0.8593], device='cuda:0') tensor([0.9018], device='cuda:0') 106.75242931259675 37.37177131830692\n",
      "tensor([0.8972], device='cuda:0') tensor([0.9044], device='cuda:0') 77.97870394045776 36.79861009305112\n",
      "tensor([0.9032], device='cuda:0') tensor([0.9061], device='cuda:0') 73.47334094513627 35.499885442902645\n",
      "tensor([0.9044], device='cuda:0') tensor([0.9090], device='cuda:0') 72.5565402044864 34.481763848487944\n",
      "tensor([0.8996], device='cuda:0') tensor([0.9137], device='cuda:0') 76.15269371009094 33.10468151173433\n",
      "tensor([0.9001], device='cuda:0') tensor([0.9127], device='cuda:0') 75.84599920354655 32.41389710449408\n",
      "tensor([0.9039], device='cuda:0') tensor([0.9138], device='cuda:0') 72.90535668934514 31.322356571066756\n",
      "tensor([0.9107], device='cuda:0') tensor([0.9142], device='cuda:0') 67.75794779774574 30.49271977225691\n",
      "tensor([0.9055], device='cuda:0') tensor([0.9131], device='cuda:0') 71.69378535233994 29.80121277149508\n",
      "tensor([0.9086], device='cuda:0') tensor([0.9111], device='cuda:0') 69.37612255017139 29.158636373554433\n",
      "tensor([0.9078], device='cuda:0') tensor([0.9151], device='cuda:0') 69.98291728286709 28.22654583776398\n",
      "tensor([0.9068], device='cuda:0') tensor([0.9133], device='cuda:0') 70.70715121472108 27.74943042528894\n",
      "tensor([0.9051], device='cuda:0') tensor([0.9071], device='cuda:0') 71.98223388347938 27.57515508992984\n",
      "tensor([0.8837], device='cuda:0') tensor([0.9019], device='cuda:0') 88.28482043516419 27.67734409338401\n",
      "tensor([0.8437], device='cuda:0') tensor([0.8963], device='cuda:0') 118.61512315658172 28.459725460899755\n",
      "tensor([0.8797], device='cuda:0') tensor([0.8997], device='cuda:0') 91.27006650213539 29.060508910112123\n",
      "tensor([0.8759], device='cuda:0') tensor([0.9054], device='cuda:0') 94.21003781858138 28.423989424232076\n",
      "tensor([0.8765], device='cuda:0') tensor([0.9050], device='cuda:0') 93.72967499602638 28.082646677967876\n",
      "tensor([0.8915], device='cuda:0') tensor([0.9091], device='cuda:0') 82.35708508835278 27.593647160544084\n",
      "tensor([0.8967], device='cuda:0') tensor([0.9118], device='cuda:0') 78.41873810070904 26.991456957273726\n",
      "tensor([0.8604], device='cuda:0') tensor([0.9017], device='cuda:0') 105.9401355525763 33.3627063149834\n",
      "tensor([0.8939], device='cuda:0') tensor([0.9176], device='cuda:0') 80.50803126554898 28.320130117800723\n",
      "tensor([0.8893], device='cuda:0') tensor([0.9210], device='cuda:0') 84.03653017539253 26.00797005107391\n",
      "tensor([0.8849], device='cuda:0') tensor([0.9221], device='cuda:0') 87.36810402614994 24.25581786136003\n",
      "tensor([0.8875], device='cuda:0') tensor([0.9251], device='cuda:0') 85.3899494830827 23.041862252476907\n",
      "tensor([0.8457], device='cuda:0') tensor([0.9284], device='cuda:0') 117.07214512038368 21.952676968358272\n",
      "tensor([0.8179], device='cuda:0') tensor([0.9254], device='cuda:0') 138.2246724347634 21.21045830355536\n",
      "tensor([0.8407], device='cuda:0') tensor([0.9189], device='cuda:0') 120.8896065416298 20.833150779892687\n",
      "tensor([0.8090], device='cuda:0') tensor([0.9046], device='cuda:0') 144.92403803626715 21.29453940063862\n",
      "tensor([0.7879], device='cuda:0') tensor([0.9067], device='cuda:0') 160.95308051263268 21.71299849523448\n",
      "tensor([0.8305], device='cuda:0') tensor([0.9052], device='cuda:0') 128.6011573626161 22.890505190749547\n",
      "tensor([0.8656], device='cuda:0') tensor([0.9087], device='cuda:0') 101.96764299881137 23.488213022706173\n",
      "tensor([0.8682], device='cuda:0') tensor([0.9124], device='cuda:0') 100.0068359375 22.55972897213647\n",
      "tensor([0.8646], device='cuda:0') tensor([0.9056], device='cuda:0') 102.77562213207652 21.826818827715645\n",
      "tensor([0.8626], device='cuda:0') tensor([0.8990], device='cuda:0') 104.29497111344538 21.337579706999886\n",
      "tensor([0.8516], device='cuda:0') tensor([0.8860], device='cuda:0') 112.61399261596085 21.708308652044167\n",
      "tensor([0.8593], device='cuda:0') tensor([0.8871], device='cuda:0') 106.75069149781623 21.578464167756664\n",
      "tensor([0.8548], device='cuda:0') tensor([0.8809], device='cuda:0') 110.17902882781402 22.054040281972892\n",
      "tensor([0.8544], device='cuda:0') tensor([0.8868], device='cuda:0') 110.51270395082375 22.06793386272513\n",
      "tensor([0.8536], device='cuda:0') tensor([0.8912], device='cuda:0') 111.12797028762162 21.860025432182578\n",
      "tensor([0.7953], device='cuda:0') tensor([0.9229], device='cuda:0') 155.34503019957984 29.26315670434842\n",
      "tensor([0.8559], device='cuda:0') tensor([0.9181], device='cuda:0') 109.35893790081822 28.06633408528123\n",
      "tensor([0.8200], device='cuda:0') tensor([0.9005], device='cuda:0') 136.5590679939739 24.77740292290634\n",
      "tensor([0.7561], device='cuda:0') tensor([0.8863], device='cuda:0') 185.10669193664307 24.173359770837948\n",
      "tensor([0.8651], device='cuda:0') tensor([0.8814], device='cuda:0') 102.34204220339451 23.70045946132728\n",
      "tensor([0.8857], device='cuda:0') tensor([0.8829], device='cuda:0') 86.70028990214507 22.960523478922386\n",
      "tensor([0.8538], device='cuda:0') tensor([0.8611], device='cuda:0') 110.97656336383237 22.12857039610184\n",
      "tensor([0.8646], device='cuda:0') tensor([0.8760], device='cuda:0') 102.74439977471252 21.093683783665693\n",
      "tensor([0.8620], device='cuda:0') tensor([0.8919], device='cuda:0') 104.69952281899602 19.72685175371352\n",
      "tensor([0.8668], device='cuda:0') tensor([0.9111], device='cuda:0') 101.11700782286599 19.39428195861482\n",
      "tensor([0.8641], device='cuda:0') tensor([0.9027], device='cuda:0') 103.1105731355042 19.797091075065584\n",
      "tensor([0.8763], device='cuda:0') tensor([0.8894], device='cuda:0') 93.88984755086246 20.753099919448058\n",
      "tensor([0.8275], device='cuda:0') tensor([0.8889], device='cuda:0') 130.92820257214728 21.887075031191166\n",
      "tensor([0.7516], device='cuda:0') tensor([0.8918], device='cuda:0') 188.48729820875718 22.461531351555145\n",
      "tensor([0.8065], device='cuda:0') tensor([0.9250], device='cuda:0') 146.81477706214065 20.130006957987533\n",
      "tensor([0.8717], device='cuda:0') tensor([0.9261], device='cuda:0') 97.36719959365325 20.521248967684915\n",
      "tensor([0.8830], device='cuda:0') tensor([0.9224], device='cuda:0') 88.81978815374835 22.63961299053623\n",
      "tensor([0.8862], device='cuda:0') tensor([0.9206], device='cuda:0') 86.38779508513932 24.59152124849452\n"
     ]
    },
    {
     "name": "stdout",
     "output_type": "stream",
     "text": [
      "tensor([0.8809], device='cuda:0') tensor([0.9167], device='cuda:0') 90.35832112450244 25.157276704677205\n",
      "tensor([0.8594], device='cuda:0') tensor([0.9011], device='cuda:0') 106.67695347053295 27.16074793850625\n",
      "tensor([0.7988], device='cuda:0') tensor([0.7252], device='cuda:0') 152.67299970975233 43.44127798120051\n",
      "tensor([0.8575], device='cuda:0') tensor([0.9090], device='cuda:0') 108.1219834973463 33.52655826583179\n",
      "tensor([0.8873], device='cuda:0') tensor([0.9412], device='cuda:0') 85.52875525210084 26.299458653752975\n",
      "tensor([0.8605], device='cuda:0') tensor([0.9353], device='cuda:0') 105.87906692282176 24.555142713640013\n",
      "tensor([0.8778], device='cuda:0') tensor([0.9378], device='cuda:0') 92.72666184072312 27.045481171849044\n",
      "tensor([0.8475], device='cuda:0') tensor([0.9098], device='cuda:0') 115.72426816121185 31.26211188413672\n",
      "tensor([0.8369], device='cuda:0') tensor([0.9188], device='cuda:0') 123.7362417417625 34.55188572980404\n",
      "tensor([0.8962], device='cuda:0') tensor([0.9284], device='cuda:0') 78.73478445654578 28.85689341511677\n",
      "tensor([0.8556], device='cuda:0') tensor([0.9023], device='cuda:0') 109.55406726835471 22.240391736807133\n",
      "tensor([0.8979], device='cuda:0') tensor([0.8907], device='cuda:0') 77.46696186698364 21.76045031108969\n",
      "tensor([0.8654], device='cuda:0') tensor([0.8727], device='cuda:0') 102.17743548899823 24.076912935551526\n",
      "tensor([0.7703], device='cuda:0') tensor([0.8808], device='cuda:0') 174.30990159221582 25.801838791643018\n",
      "tensor([0.8807], device='cuda:0') tensor([0.9181], device='cuda:0') 90.54580643935206 25.250586699974736\n",
      "tensor([0.8913], device='cuda:0') tensor([0.9201], device='cuda:0') 82.49136340391419 21.809303743761767\n",
      "tensor([0.8707], device='cuda:0') tensor([0.9198], device='cuda:0') 98.12811843487395 26.223179870061326\n",
      "tensor([0.7412], device='cuda:0') tensor([0.8838], device='cuda:0') 196.36779563799203 29.279659091056573\n",
      "tensor([0.8838], device='cuda:0') tensor([0.9318], device='cuda:0') 88.19351227333038 25.695826764874855\n",
      "tensor([0.8638], device='cuda:0') tensor([0.9500], device='cuda:0') 103.35883769626271 23.016536319537696\n",
      "tensor([0.8560], device='cuda:0') tensor([0.9541], device='cuda:0') 109.25939676857585 18.932827516966956\n"
     ]
    }
   ],
   "source": [
    "R2_test,R2_train,test_loss,train_loss = main()"
   ]
  },
  {
   "cell_type": "code",
   "execution_count": 18,
   "metadata": {},
   "outputs": [
    {
     "data": {
      "text/plain": [
       "<matplotlib.legend.Legend at 0x7f2f05769750>"
      ]
     },
     "execution_count": 18,
     "metadata": {},
     "output_type": "execute_result"
    },
    {
     "data": {
      "image/png": "[encoded data removed]",
      "text/plain": [
       "<Figure size 432x288 with 1 Axes>"
      ]
     },
     "metadata": {
      "needs_background": "light"
     },
     "output_type": "display_data"
    }
   ],
   "source": [
    "plt.plot(R2_test,label =\"R2 Test\")\n",
    "plt.plot(R2_train,label=\"R2 Train\")\n",
    "plt.xlabel('Epoch')\n",
    "plt.xlabel('R2')\n",
    "plt.legend()"
   ]
  },
  {
   "cell_type": "code",
   "execution_count": 19,
   "metadata": {},
   "outputs": [
    {
     "data": {
      "text/plain": [
       "<matplotlib.legend.Legend at 0x7f2e64f07950>"
      ]
     },
     "execution_count": 19,
     "metadata": {},
     "output_type": "execute_result"
    },
    {
     "data": {
      "image/png": "[encoded data removed]",
      "text/plain": [
       "<Figure size 432x288 with 1 Axes>"
      ]
     },
     "metadata": {
      "needs_background": "light"
     },
     "output_type": "display_data"
    }
   ],
   "source": [
    "plt.plot(test_loss,label =\"Test loss\")\n",
    "plt.plot(train_loss,label=\"Train loss\")\n",
    "plt.xlabel('Epoch')\n",
    "plt.xlabel('loss')\n",
    "plt.legend()"
   ]
  },
  {
   "cell_type": "markdown",
   "metadata": {},
   "source": [
    "## Part B"
   ]
  },
  {
   "cell_type": "code",
   "execution_count": 9,
   "metadata": {},
   "outputs": [],
   "source": [
    "def main2():\n",
    "    \n",
    "    source_folder = \"//home//pc19d//hw8\"\n",
    "    dataset_train = MyDataset(folder=source_folder,train=True)\n",
    "    dataset_val   = MyDataset(folder=source_folder,train=False)\n",
    "    loader_train  = DataLoader(dataset=dataset_train, batch_size = 512)\n",
    "    loader_test   = DataLoader(dataset=dataset_val,batch_size = 512)\n",
    "    \n",
    "    N_train = 18059\n",
    "    N_test = 2261\n",
    "    \n",
    "    # defining the model\n",
    "    input_dim = (3,64,64)\n",
    "    model = CNN(3,1,input_dim)\n",
    "\n",
    "    # Define loss\n",
    "    criterion = nn.MSELoss(reduction='sum')\n",
    "    \n",
    "    # Optimizer\n",
    "    optimizer = optim.SGD(model.parameters(), lr=1e-6, momentum=0.9,weight_decay = 0.0001)\n",
    "    \n",
    "    \n",
    "    # Move to GPU\n",
    "    device_ids = [0]\n",
    "    model.to(device)\n",
    "    criterion.to(device)\n",
    "\n",
    "    \n",
    "    test_loss  = []\n",
    "    train_loss = []\n",
    "    \n",
    "    R2_test  = []\n",
    "    R2_train = []\n",
    "    \n",
    "    \n",
    "    for epoch in range(100): \n",
    "              \n",
    "        running_train_loss = 0\n",
    "        running_test_loss  = 0\n",
    "        predictions_train, actuals_train = list(), list()\n",
    "        \n",
    "        \n",
    "        for data,label in loader_train:\n",
    "            \n",
    "            #print(data.shape,label.shape)\n",
    "            # Pre-training step\n",
    "            model.train()\n",
    "            model.zero_grad()\n",
    "            optimizer.zero_grad()\n",
    "            \n",
    "            img_train = Variable(data.to(device))\n",
    "            label     = Variable(label.to(device))\n",
    "            out_train = model(img_train)\n",
    "            #print(label.size(),out_train.size())\n",
    "            label = label.unsqueeze(1)\n",
    "            \n",
    "            #print(label.size(),out_train.size())\n",
    "            #sys.exit()\n",
    "            loss = criterion(out_train, label)\n",
    "            loss.backward()\n",
    "            optimizer.step()\n",
    "            running_train_loss += loss.item()\n",
    "            \n",
    "            model.eval()\n",
    "            with torch.no_grad():\n",
    "                y_predicted_train_batch = model(img_train)\n",
    "                actual = label.cpu().numpy() #In case if there's shuffling of data\n",
    "                actual = actual.reshape((len(actual), 1))\n",
    "                # round to class values\n",
    "                #y_predicted_train_batch = y_predicted_train_batch.round()\n",
    "                # store\n",
    "                \n",
    "                for element in y_predicted_train_batch:\n",
    "                    predictions_train.append(element)\n",
    "                for element in actual:\n",
    "                    actuals_train.append(element)\n",
    "                    \n",
    "                #pint(np.array(predictions_train).shape,np.array(actuals_train).shape)\n",
    "            \n",
    "            model.train()\n",
    "            \n",
    "            #print(loss.item())\n",
    "\n",
    "        train_loss.append(running_train_loss/N_train)\n",
    "        actuals_train,predictions_train = np.array(actuals_train).flatten(),np.array(predictions_train).flatten()\n",
    "        \n",
    "        #print(actuals_train.shape,predictions_train.shape)\n",
    "        y_bar_train = np.mean(actuals_train)\n",
    "        \n",
    "        assert actuals_train.shape ==  predictions_train.shape\n",
    "        \n",
    "        R2_train.append(1 - np.sum(np.square(actuals_train -  predictions_train)) / np.sum(np.square(actuals_train -  y_bar_train)))\n",
    "    \n",
    "        model.eval()\n",
    "        predictions_test, actuals_test = list(), list()\n",
    "        \n",
    "        with torch.no_grad():\n",
    "            for inputs, labels in loader_test:\n",
    "                \n",
    "                y_predicted_on_current_batch = model(inputs.to(device))\n",
    "                labels = labels.to(device)\n",
    "                labels = labels.unsqueeze(1)\n",
    "                \n",
    "                #print(labels.size(),y_predicted_on_current_batch.size())\n",
    "                #sys.exit()\n",
    "                batch_loss = criterion(y_predicted_on_current_batch, labels)\n",
    "                running_test_loss += batch_loss.item()\n",
    "\n",
    "                actual = labels.cpu().numpy() #In case if there's shuffling of data\n",
    "                actual = actual.reshape((len(actual), 1))\n",
    "                # round to class values\n",
    "                #y_predicted_on_current_batch = y_predicted_on_current_batch.round()\n",
    "                # store\n",
    "                \n",
    "                for element in y_predicted_on_current_batch:\n",
    "                    predictions_test.append(element)\n",
    "                for element in actual:\n",
    "                    actuals_test.append(element)\n",
    " \n",
    "        \n",
    "    \n",
    "        test_loss.append(running_test_loss/N_test)\n",
    "        actuals_test,predictions_test = np.array(actuals_test).flatten(),np.array(predictions_test).flatten()\n",
    "        #print(actuals_test.shape,predictions_test.shape)\n",
    "        assert actuals_test.shape ==  predictions_test.shape\n",
    "        \n",
    "        #y_bar_test  = np.mean(actuals_test)\n",
    "        R2_test.append(1 - np.sum(np.square(actuals_test -  predictions_test)) / np.sum(np.square(actuals_test -  y_bar_train)))\n",
    "        \n",
    "        model.train()\n",
    "        print(R2_test[-1],R2_train[-1],test_loss[-1],train_loss[-1])\n",
    "        \n",
    "    torch.save(model.state_dict(), os.path.join(source_folder,\"model\",\"NetB.pt\"))\n",
    "    return R2_test,R2_train,test_loss,train_loss"
   ]
  },
  {
   "cell_type": "code",
   "execution_count": 10,
   "metadata": {},
   "outputs": [
    {
     "name": "stdout",
     "output_type": "stream",
     "text": [
      "tensor([-0.5674], device='cuda:0') tensor([-29.6209], device='cuda:0') 1189.4434846306945 567.2800136012514\n",
      "tensor([0.5158], device='cuda:0') tensor([-0.0206], device='cuda:0') 367.4652221085803 316.6554094391993\n",
      "tensor([0.7504], device='cuda:0') tensor([0.6281], device='cuda:0') 189.40508555395843 188.31049160910072\n",
      "tensor([0.7714], device='cuda:0') tensor([0.6739], device='cuda:0') 173.51135766806723 140.72328742766766\n",
      "tensor([0.7961], device='cuda:0') tensor([0.7850], device='cuda:0') 154.75583086853163 115.40711219128966\n",
      "tensor([0.7870], device='cuda:0') tensor([0.8067], device='cuda:0') 161.6289857225785 108.37237632984247\n",
      "tensor([0.7886], device='cuda:0') tensor([0.8052], device='cuda:0') 160.3849634426139 99.71043177916829\n",
      "tensor([0.8268], device='cuda:0') tensor([0.8370], device='cuda:0') 131.45046698778197 95.05973248709093\n",
      "tensor([0.8361], device='cuda:0') tensor([0.7682], device='cuda:0') 124.40417593846749 92.57461891404563\n",
      "tensor([0.8374], device='cuda:0') tensor([0.8472], device='cuda:0') 123.38787801304733 87.38255866621213\n",
      "tensor([0.8238], device='cuda:0') tensor([0.8490], device='cuda:0') 133.6844912718377 85.35590536141952\n",
      "tensor([0.8516], device='cuda:0') tensor([0.8637], device='cuda:0') 112.6023693194383 81.48315228253571\n",
      "tensor([0.8661], device='cuda:0') tensor([0.8650], device='cuda:0') 101.6428519598629 78.05214386265159\n",
      "tensor([0.8658], device='cuda:0') tensor([0.8701], device='cuda:0') 101.81209054345422 76.42988806870882\n",
      "tensor([0.8717], device='cuda:0') tensor([0.8719], device='cuda:0') 97.33029149159664 73.76174065087007\n",
      "tensor([0.8698], device='cuda:0') tensor([0.8762], device='cuda:0') 98.81182102775321 71.26816923218686\n",
      "tensor([0.8428], device='cuda:0') tensor([0.8560], device='cuda:0') 119.32879101476117 70.56193506570477\n",
      "tensor([0.7999], device='cuda:0') tensor([0.8656], device='cuda:0') 151.88360031512605 69.23482696906667\n",
      "tensor([0.8725], device='cuda:0') tensor([0.8798], device='cuda:0') 96.73197613749447 67.4433531021582\n",
      "tensor([0.8527], device='cuda:0') tensor([0.8731], device='cuda:0') 111.79893783171163 66.03968324095672\n",
      "tensor([0.8802], device='cuda:0') tensor([0.8778], device='cuda:0') 90.92728259066784 64.84699197768425\n",
      "tensor([0.8705], device='cuda:0') tensor([0.8821], device='cuda:0') 98.2976749087793 62.85922093684243\n",
      "tensor([0.8694], device='cuda:0') tensor([0.8847], device='cuda:0') 99.07286771616542 61.96979367109198\n",
      "tensor([0.8833], device='cuda:0') tensor([0.8925], device='cuda:0') 88.52918544062362 60.470016843661746\n",
      "tensor([0.8824], device='cuda:0') tensor([0.8973], device='cuda:0') 89.2742685067448 58.83715702696716\n",
      "tensor([0.8819], device='cuda:0') tensor([0.8963], device='cuda:0') 89.58647739523441 57.867658395744506\n",
      "tensor([0.8851], device='cuda:0') tensor([0.8977], device='cuda:0') 87.15589582872623 57.11367465451783\n",
      "tensor([0.8773], device='cuda:0') tensor([0.8968], device='cuda:0') 93.0734153858912 56.818270906300185\n",
      "tensor([0.8833], device='cuda:0') tensor([0.8985], device='cuda:0') 88.53732792459088 56.20557119199568\n",
      "tensor([0.8776], device='cuda:0') tensor([0.9003], device='cuda:0') 92.9120713663755 55.30065292712429\n",
      "tensor([0.8808], device='cuda:0') tensor([0.9035], device='cuda:0') 90.46605484298983 54.5222937338204\n",
      "tensor([0.8864], device='cuda:0') tensor([0.9077], device='cuda:0') 86.17057838760505 52.927760385662964\n",
      "tensor([0.8817], device='cuda:0') tensor([0.9040], device='cuda:0') 89.77412683823529 52.38016811864929\n",
      "tensor([0.8588], device='cuda:0') tensor([0.9062], device='cuda:0') 107.15634070239938 51.427683002588736\n",
      "tensor([0.8615], device='cuda:0') tensor([0.9014], device='cuda:0') 105.0725705578284 51.732957391830254\n",
      "tensor([0.8752], device='cuda:0') tensor([0.9059], device='cuda:0') 94.7221094441066 50.586012044072554\n",
      "tensor([0.8751], device='cuda:0') tensor([0.9083], device='cuda:0') 94.77373984133126 49.87687639084044\n",
      "tensor([0.8899], device='cuda:0') tensor([0.9133], device='cuda:0') 83.5413171024989 48.529775341415636\n",
      "tensor([0.8806], device='cuda:0') tensor([0.9164], device='cuda:0') 90.61260227775321 47.57405454755074\n",
      "tensor([0.8845], device='cuda:0') tensor([0.9155], device='cuda:0') 87.61058609298983 47.04777061039509\n",
      "tensor([0.8813], device='cuda:0') tensor([0.9180], device='cuda:0') 90.06399356617646 46.37825268477629\n",
      "tensor([0.8865], device='cuda:0') tensor([0.9179], device='cuda:0') 86.13546273772667 45.728029479760785\n",
      "tensor([0.8880], device='cuda:0') tensor([0.9186], device='cuda:0') 85.02056352968819 45.20100751032207\n",
      "tensor([0.8876], device='cuda:0') tensor([0.9156], device='cuda:0') 85.3031464230429 44.76716476635611\n",
      "tensor([0.8980], device='cuda:0') tensor([0.9160], device='cuda:0') 77.41193228936311 44.81667590108291\n",
      "tensor([0.8854], device='cuda:0') tensor([0.9185], device='cuda:0') 86.93163285050862 44.49239688313306\n",
      "tensor([0.8191], device='cuda:0') tensor([0.9139], device='cuda:0') 137.2470698805838 44.87250965476874\n",
      "tensor([0.8400], device='cuda:0') tensor([0.9138], device='cuda:0') 121.40303136057054 44.74019625126322\n",
      "tensor([0.8535], device='cuda:0') tensor([0.9141], device='cuda:0') 111.19211372871517 44.23339689632766\n",
      "tensor([0.8429], device='cuda:0') tensor([0.9148], device='cuda:0') 119.20494250331711 43.01268179344441\n",
      "tensor([0.8531], device='cuda:0') tensor([0.9155], device='cuda:0') 111.4749937804069 42.4822798167638\n",
      "tensor([0.8801], device='cuda:0') tensor([0.9187], device='cuda:0') 91.023554981203 42.00287247485672\n",
      "tensor([0.8446], device='cuda:0') tensor([0.9181], device='cuda:0') 117.90221763047325 41.69295631787647\n",
      "tensor([0.8722], device='cuda:0') tensor([0.9193], device='cuda:0') 96.96475563909775 41.31588506336868\n",
      "tensor([0.8561], device='cuda:0') tensor([0.9253], device='cuda:0') 109.23499523164529 40.146267150814694\n",
      "tensor([0.8688], device='cuda:0') tensor([0.9271], device='cuda:0') 99.59019878510615 39.415559492064205\n",
      "tensor([0.8824], device='cuda:0') tensor([0.9282], device='cuda:0') 89.20724375276427 38.717334879336484\n",
      "tensor([0.8899], device='cuda:0') tensor([0.9254], device='cuda:0') 83.54162980981866 38.45119615522385\n",
      "tensor([0.8911], device='cuda:0') tensor([0.9307], device='cuda:0') 82.63970674618531 37.76617711823052\n",
      "tensor([0.9022], device='cuda:0') tensor([0.9288], device='cuda:0') 74.20382470422379 37.60997075774198\n",
      "tensor([0.9059], device='cuda:0') tensor([0.9323], device='cuda:0') 71.44594050613667 37.03944698194114\n",
      "tensor([0.9070], device='cuda:0') tensor([0.9325], device='cuda:0') 70.56217692669173 36.71261710746719\n",
      "tensor([0.8852], device='cuda:0') tensor([0.9284], device='cuda:0') 87.13735453062804 36.86920438086619\n",
      "tensor([0.8603], device='cuda:0') tensor([0.9239], device='cuda:0') 106.00659622401592 37.38716482475843\n",
      "tensor([0.7844], device='cuda:0') tensor([0.9224], device='cuda:0') 163.57727498894295 38.62273950575198\n",
      "tensor([0.7755], device='cuda:0') tensor([0.9184], device='cuda:0') 170.35642933160105 39.39449528931212\n",
      "tensor([0.8466], device='cuda:0') tensor([0.9147], device='cuda:0') 116.44203598380142 41.13009219563306\n",
      "tensor([0.8879], device='cuda:0') tensor([0.9057], device='cuda:0') 85.06060647943387 41.496656575322554\n",
      "tensor([0.7776], device='cuda:0') tensor([0.8849], device='cuda:0') 168.78511651371076 46.80537313242358\n",
      "tensor([0.8955], device='cuda:0') tensor([0.8837], device='cuda:0') 79.32068913091553 55.59615293101778\n",
      "tensor([0.8570], device='cuda:0') tensor([0.9058], device='cuda:0') 108.51932479406236 45.59179914620134\n",
      "tensor([0.9059], device='cuda:0') tensor([0.9093], device='cuda:0') 71.38509992812915 46.563059634825436\n",
      "tensor([0.8767], device='cuda:0') tensor([0.9194], device='cuda:0') 93.5700386651371 41.526813830058764\n",
      "tensor([0.8739], device='cuda:0') tensor([0.9206], device='cuda:0') 95.69646830771782 42.546599373494516\n",
      "tensor([0.8778], device='cuda:0') tensor([0.9217], device='cuda:0') 92.71447834890535 40.37606054287336\n",
      "tensor([0.8335], device='cuda:0') tensor([0.9271], device='cuda:0') 126.36173412621628 39.10867920124661\n",
      "tensor([0.9005], device='cuda:0') tensor([0.9274], device='cuda:0') 75.54190364468155 37.593037816151224\n",
      "tensor([0.8945], device='cuda:0') tensor([0.9183], device='cuda:0') 80.02626741486068 37.29417716430346\n",
      "tensor([0.8678], device='cuda:0') tensor([0.9244], device='cuda:0') 100.35472930948696 38.53686919545829\n"
     ]
    },
    {
     "name": "stdout",
     "output_type": "stream",
     "text": [
      "tensor([0.8802], device='cuda:0') tensor([0.9102], device='cuda:0') 90.93543544062362 41.61415139049435\n",
      "tensor([0.8827], device='cuda:0') tensor([0.9077], device='cuda:0') 89.0119018824635 42.32328969346136\n",
      "tensor([0.9007], device='cuda:0') tensor([0.9259], device='cuda:0') 75.3555274906015 38.578153525207306\n",
      "tensor([0.9024], device='cuda:0') tensor([0.9287], device='cuda:0') 74.05385131026095 37.05327575910038\n",
      "tensor([0.9025], device='cuda:0') tensor([0.9327], device='cuda:0') 73.96073709088898 35.33793594087436\n",
      "tensor([0.8975], device='cuda:0') tensor([0.9338], device='cuda:0') 77.77400244637329 34.02822795031217\n",
      "tensor([0.9012], device='cuda:0') tensor([0.9370], device='cuda:0') 74.95423761609906 32.89587877538554\n",
      "tensor([0.8936], device='cuda:0') tensor([0.9359], device='cuda:0') 80.73296608939629 32.31692273199997\n",
      "tensor([0.8928], device='cuda:0') tensor([0.9386], device='cuda:0') 81.3658718832928 32.0125414115711\n",
      "tensor([0.9099], device='cuda:0') tensor([0.9382], device='cuda:0') 68.38610024601947 31.644416013570105\n",
      "tensor([0.9102], device='cuda:0') tensor([0.9396], device='cuda:0') 68.17048941287041 31.147662019932927\n",
      "tensor([0.9031], device='cuda:0') tensor([0.9444], device='cuda:0') 73.55207527089783 30.737985507139793\n",
      "tensor([0.9021], device='cuda:0') tensor([0.9456], device='cuda:0') 74.32444334641751 30.214388941931656\n",
      "tensor([0.9060], device='cuda:0') tensor([0.9437], device='cuda:0') 71.33288730788368 29.90383790306253\n",
      "tensor([0.9045], device='cuda:0') tensor([0.9435], device='cuda:0') 72.46626907341884 29.66007297261753\n",
      "tensor([0.8979], device='cuda:0') tensor([0.9419], device='cuda:0') 77.50063578062804 29.590206871833296\n",
      "tensor([0.9104], device='cuda:0') tensor([0.9423], device='cuda:0') 67.98900082236842 28.77275854598988\n",
      "tensor([0.8803], device='cuda:0') tensor([0.9453], device='cuda:0') 90.83230594869526 28.481916208244503\n",
      "tensor([0.8819], device='cuda:0') tensor([0.9432], device='cuda:0') 89.63858894709199 28.588191721406226\n",
      "tensor([0.9101], device='cuda:0') tensor([0.9419], device='cuda:0') 68.21947821069217 28.39416531620314\n",
      "tensor([0.9093], device='cuda:0') tensor([0.9409], device='cuda:0') 68.84158609990048 28.22082433685247\n"
     ]
    }
   ],
   "source": [
    "R2_test_2,R2_train_2,test_loss_2,train_loss_2 = main2()"
   ]
  },
  {
   "cell_type": "code",
   "execution_count": 22,
   "metadata": {
    "scrolled": true
   },
   "outputs": [
    {
     "data": {
      "text/plain": [
       "<matplotlib.legend.Legend at 0x7f2e60808310>"
      ]
     },
     "execution_count": 22,
     "metadata": {},
     "output_type": "execute_result"
    },
    {
     "data": {
      "image/png": "[encoded data removed]",
      "text/plain": [
       "<Figure size 432x288 with 1 Axes>"
      ]
     },
     "metadata": {
      "needs_background": "light"
     },
     "output_type": "display_data"
    }
   ],
   "source": [
    "plt.plot(R2_test_2[1:],label =\"R2 Test\")\n",
    "plt.plot(R2_train_2[1:],label=\"R2 Train\")\n",
    "plt.xlabel('Epoch')\n",
    "plt.xlabel('R2')\n",
    "plt.legend()"
   ]
  },
  {
   "cell_type": "code",
   "execution_count": 23,
   "metadata": {
    "scrolled": false
   },
   "outputs": [
    {
     "data": {
      "text/plain": [
       "<matplotlib.legend.Legend at 0x7f2e64ecd0d0>"
      ]
     },
     "execution_count": 23,
     "metadata": {},
     "output_type": "execute_result"
    },
    {
     "data": {
      "image/png": "[encoded data removed]",
      "text/plain": [
       "<Figure size 432x288 with 1 Axes>"
      ]
     },
     "metadata": {
      "needs_background": "light"
     },
     "output_type": "display_data"
    }
   ],
   "source": [
    "plt.plot(R2_test_2,label =\"R2 Test\")\n",
    "plt.plot(R2_train_2,label=\"R2 Train\")\n",
    "plt.xlabel('Epoch')\n",
    "plt.xlabel('R2')\n",
    "plt.legend()"
   ]
  },
  {
   "cell_type": "code",
   "execution_count": 24,
   "metadata": {
    "scrolled": true
   },
   "outputs": [
    {
     "data": {
      "text/plain": [
       "<matplotlib.legend.Legend at 0x7f2e608dbd90>"
      ]
     },
     "execution_count": 24,
     "metadata": {},
     "output_type": "execute_result"
    },
    {
     "data": {
      "image/png": "[encoded data removed]",
      "text/plain": [
       "<Figure size 432x288 with 1 Axes>"
      ]
     },
     "metadata": {
      "needs_background": "light"
     },
     "output_type": "display_data"
    }
   ],
   "source": [
    "plt.plot(test_loss_2,label =\"Test loss\")\n",
    "plt.plot(train_loss_2,label=\"Train loss\")\n",
    "plt.xlabel('Epoch')\n",
    "plt.xlabel('loss')\n",
    "plt.legend()"
   ]
  },
  {
   "cell_type": "markdown",
   "metadata": {},
   "source": [
    "# Part C"
   ]
  },
  {
   "cell_type": "code",
   "execution_count": 39,
   "metadata": {},
   "outputs": [],
   "source": [
    "def predict():\n",
    "    \n",
    "    input_dim = (3,64,64)\n",
    "    model2 = CNN(3,1,input_dim)\n",
    "    model2.load_state_dict(torch.load('model//NetA.pt'))\n",
    "    model2.eval()\n",
    "    \n",
    "    source_folder = \"//home//pc19d//hw8\"\n",
    "    dataset_train = MyDataset(folder=source_folder,train=True)\n",
    "    dataset_val   = MyDataset(folder=source_folder,train=False)\n",
    "    loader_train  = DataLoader(dataset=dataset_train, batch_size = 512)\n",
    "    loader_test   = DataLoader(dataset=dataset_val,batch_size = 512)\n",
    "    \n",
    "    \n",
    "    predictions_train, actuals_train = list(), list()\n",
    "    with torch.no_grad():\n",
    "        for data,label in loader_train:\n",
    "            data = Variable(data)     \n",
    "            y_predicted_train_batch = model2(data)\n",
    "            actual = label.cpu().numpy() #In case if there's shuffling of data\n",
    "            actual = actual.reshape((len(actual), 1))\n",
    "            # store\n",
    "           \n",
    "            for element in y_predicted_train_batch:\n",
    "                predictions_train.append(element)\n",
    "            for element in actual:\n",
    "                actuals_train.append(element)\n",
    "    \n",
    "    \n",
    "    predictions_test, actuals_test = list(), list()    \n",
    "    with torch.no_grad():\n",
    "        for inputs, labels in loader_test:\n",
    "            \n",
    "            y_predicted_on_current_batch = model2(inputs)\n",
    "            actual = labels.cpu().numpy() #In case if there's shuffling of data\n",
    "            actual = actual.reshape((len(actual), 1))\n",
    "            # store\n",
    "            for element in y_predicted_on_current_batch:\n",
    "                predictions_test.append(element)\n",
    "            for element in actual:\n",
    "                actuals_test.append(element)\n",
    "    \n",
    "\n",
    "    return predictions_train, actuals_train, predictions_test, actuals_test"
   ]
  },
  {
   "cell_type": "code",
   "execution_count": 40,
   "metadata": {},
   "outputs": [],
   "source": [
    "predictions_train, actuals_train, predictions_test, actuals_test = predict()"
   ]
  },
  {
   "cell_type": "code",
   "execution_count": 52,
   "metadata": {},
   "outputs": [
    {
     "name": "stdout",
     "output_type": "stream",
     "text": [
      "(18059, 1) (2261, 1)\n"
     ]
    }
   ],
   "source": [
    "residual_train = np.array(actuals_train) - np.array(predictions_train).reshape(-1,1)\n",
    "residual_test  = np.array(actuals_test)  - np.array(predictions_test).reshape(-1,1)\n",
    "print(residual_train.shape,residual_test.shape)"
   ]
  },
  {
   "cell_type": "code",
   "execution_count": 55,
   "metadata": {
    "scrolled": true
   },
   "outputs": [
    {
     "data": {
      "image/png": "[encoded data removed]",
      "text/plain": [
       "<Figure size 432x288 with 1 Axes>"
      ]
     },
     "metadata": {
      "needs_background": "light"
     },
     "output_type": "display_data"
    }
   ],
   "source": [
    "plt.scatter(actuals_train,residual_train,color=\"Blue\",label=\"train\")\n",
    "plt.scatter(actuals_test,residual_test,color=\"red\",label=\"test\")\n",
    "plt.xlabel(\"Yi\")\n",
    "plt.ylabel(\"Residual\")\n",
    "plt.legend()\n",
    "plt.show()"
   ]
  },
  {
   "cell_type": "markdown",
   "metadata": {},
   "source": [
    "# Part D"
   ]
  },
  {
   "cell_type": "code",
   "execution_count": 56,
   "metadata": {},
   "outputs": [
    {
     "data": {
      "text/plain": [
       "51125"
      ]
     },
     "execution_count": 56,
     "metadata": {},
     "output_type": "execute_result"
    }
   ],
   "source": [
    "input_dim = (3,64,64)\n",
    "model3 = CNN(3,1,input_dim)\n",
    "model3.load_state_dict(torch.load('model//NetA.pt'))\n",
    "num_param =  sum(p.numel() for p in model3.parameters())\n",
    "num_param"
   ]
  },
  {
   "cell_type": "code",
   "execution_count": 2,
   "metadata": {},
   "outputs": [],
   "source": [
    "import pandas as pd"
   ]
  },
  {
   "cell_type": "code",
   "execution_count": 5,
   "metadata": {},
   "outputs": [
    {
     "data": {
      "text/html": [
       "<div>\n",
       "<style scoped>\n",
       "    .dataframe tbody tr th:only-of-type {\n",
       "        vertical-align: middle;\n",
       "    }\n",
       "\n",
       "    .dataframe tbody tr th {\n",
       "        vertical-align: top;\n",
       "    }\n",
       "\n",
       "    .dataframe thead th {\n",
       "        text-align: right;\n",
       "    }\n",
       "</style>\n",
       "<table border=\"1\" class=\"dataframe\">\n",
       "  <thead>\n",
       "    <tr style=\"text-align: right;\">\n",
       "      <th></th>\n",
       "      <th>Layer Description</th>\n",
       "      <th>Number of Filters(For Conv)/Number_of_Neuron(in/out)(For linear)</th>\n",
       "      <th>Kernel_Size</th>\n",
       "      <th>Pading</th>\n",
       "      <th>Dilation</th>\n",
       "    </tr>\n",
       "  </thead>\n",
       "  <tbody>\n",
       "    <tr>\n",
       "      <th>Layer 1</th>\n",
       "      <td>Conv2d</td>\n",
       "      <td>32</td>\n",
       "      <td>5</td>\n",
       "      <td>1</td>\n",
       "      <td>2</td>\n",
       "    </tr>\n",
       "    <tr>\n",
       "      <th>Layer 2</th>\n",
       "      <td>Conv2d + Batch_Normilization + RELU</td>\n",
       "      <td>32</td>\n",
       "      <td>5</td>\n",
       "      <td>1</td>\n",
       "      <td>2</td>\n",
       "    </tr>\n",
       "    <tr>\n",
       "      <th>Layer 3</th>\n",
       "      <td>Conv2d + 2x2 max pooling + Batch_Normilization...</td>\n",
       "      <td>16</td>\n",
       "      <td>5</td>\n",
       "      <td>1</td>\n",
       "      <td>2</td>\n",
       "    </tr>\n",
       "    <tr>\n",
       "      <th>Layer 4</th>\n",
       "      <td>Conv2d + 2x2 max pooling + Batch_Normilization...</td>\n",
       "      <td>8</td>\n",
       "      <td>2</td>\n",
       "      <td>1</td>\n",
       "      <td>2</td>\n",
       "    </tr>\n",
       "    <tr>\n",
       "      <th>Layer 5</th>\n",
       "      <td>Linear</td>\n",
       "      <td>_/10</td>\n",
       "      <td></td>\n",
       "      <td></td>\n",
       "      <td></td>\n",
       "    </tr>\n",
       "    <tr>\n",
       "      <th>Layer 6</th>\n",
       "      <td>Linear</td>\n",
       "      <td>10/1</td>\n",
       "      <td></td>\n",
       "      <td></td>\n",
       "      <td></td>\n",
       "    </tr>\n",
       "    <tr>\n",
       "      <th>Total Number of Parameters</th>\n",
       "      <td>51125</td>\n",
       "      <td></td>\n",
       "      <td></td>\n",
       "      <td></td>\n",
       "      <td></td>\n",
       "    </tr>\n",
       "  </tbody>\n",
       "</table>\n",
       "</div>"
      ],
      "text/plain": [
       "                                                            Layer Description  \\\n",
       "Layer 1                                                                Conv2d   \n",
       "Layer 2                                   Conv2d + Batch_Normilization + RELU   \n",
       "Layer 3                     Conv2d + 2x2 max pooling + Batch_Normilization...   \n",
       "Layer 4                     Conv2d + 2x2 max pooling + Batch_Normilization...   \n",
       "Layer 5                                                                Linear   \n",
       "Layer 6                                                                Linear   \n",
       "Total Number of Parameters                                              51125   \n",
       "\n",
       "                           Number of Filters(For Conv)/Number_of_Neuron(in/out)(For linear)  \\\n",
       "Layer 1                                                                    32                 \n",
       "Layer 2                                                                    32                 \n",
       "Layer 3                                                                    16                 \n",
       "Layer 4                                                                     8                 \n",
       "Layer 5                                                                  _/10                 \n",
       "Layer 6                                                                  10/1                 \n",
       "Total Number of Parameters                                                                    \n",
       "\n",
       "                           Kernel_Size Pading Dilation  \n",
       "Layer 1                              5      1        2  \n",
       "Layer 2                              5      1        2  \n",
       "Layer 3                              5      1        2  \n",
       "Layer 4                              2      1        2  \n",
       "Layer 5                                                 \n",
       "Layer 6                                                 \n",
       "Total Number of Parameters                              "
      ]
     },
     "execution_count": 5,
     "metadata": {},
     "output_type": "execute_result"
    }
   ],
   "source": [
    "num_param = 51125\n",
    "results = {}\n",
    "results['Layer 1'] = ['Conv2d', 32, 5, 1, 2 ]\n",
    "results['Layer 2'] = ['Conv2d + Batch_Normilization + RELU', 32, 5, 1, 2]\n",
    "results['Layer 3'] = ['Conv2d + 2x2 max pooling + Batch_Normilization + RELU', 16, 5, 1, 2]\n",
    "results['Layer 4'] = ['Conv2d + 2x2 max pooling + Batch_Normilization + RELU', 8, 2, 1, 2]\n",
    "results['Layer 5'] = ['Linear', \"_/10\",'','','']\n",
    "results['Layer 6'] = ['Linear', \"10/1\",'','','']\n",
    "results['Total Number of Parameters'] = [num_param, '','','','' ]\n",
    "pd.DataFrame(results, index = ['Layer Description' , 'Number of Filters(For Conv)/Number_of_Neuron(in/out)(For linear)', 'Kernel_Size','Pading','Dilation']).transpose()"
   ]
  },
  {
   "cell_type": "code",
   "execution_count": null,
   "metadata": {},
   "outputs": [],
   "source": []
  }
 ],
 "metadata": {
  "kernelspec": {
   "display_name": "ml",
   "language": "python",
   "name": "ml"
  },
  "language_info": {
   "codemirror_mode": {
    "name": "ipython",
    "version": 3
   },
   "file_extension": ".py",
   "mimetype": "text/x-python",
   "name": "python",
   "nbconvert_exporter": "python",
   "pygments_lexer": "ipython3",
   "version": "3.7.7"
  }
 },
 "nbformat": 4,
 "nbformat_minor": 4
}
