{
 "cells": [
  {
   "cell_type": "code",
   "execution_count": 20,
   "metadata": {},
   "outputs": [],
   "source": [
    "import numpy as np\n",
    "import matplotlib.pyplot as plt\n",
    "import os\n",
    "from sklearn.model_selection import train_test_split\n",
    "from sklearn.metrics import r2_score\n",
    "import sys\n",
    "from sklearn.tree import DecisionTreeRegressor\n",
    "from sklearn.ensemble import RandomForestRegressor\n",
    "import pandas as pd"
   ]
  },
  {
   "cell_type": "code",
   "execution_count": 21,
   "metadata": {},
   "outputs": [],
   "source": [
    "source_folder = \"C:\\\\Users\\\\18503\\\\Dropbox\\\\Course\\\\Applied Machine Learning\\\\Homework\\\\hw2\""
   ]
  },
  {
   "cell_type": "code",
   "execution_count": 22,
   "metadata": {},
   "outputs": [
    {
     "data": {
      "text/plain": [
       "['.ipynb_checkpoints',\n",
       " 'abalone.csv',\n",
       " 'Hw02.pdf',\n",
       " 'hw2_pankaj.docx',\n",
       " 'hw2_pankaj.ipynb',\n",
       " '~$2_pankaj.docx']"
      ]
     },
     "execution_count": 22,
     "metadata": {},
     "output_type": "execute_result"
    }
   ],
   "source": [
    "os.listdir(source_folder)"
   ]
  },
  {
   "cell_type": "code",
   "execution_count": 23,
   "metadata": {
    "scrolled": false
   },
   "outputs": [
    {
     "data": {
      "text/plain": [
       "(4177, 8)"
      ]
     },
     "execution_count": 23,
     "metadata": {},
     "output_type": "execute_result"
    }
   ],
   "source": [
    "dataset = np.genfromtxt(os.path.join(source_folder,'abalone.csv'),delimiter=',')\n",
    "dataset.shape"
   ]
  },
  {
   "cell_type": "code",
   "execution_count": null,
   "metadata": {},
   "outputs": [],
   "source": []
  },
  {
   "cell_type": "markdown",
   "metadata": {},
   "source": [
    "# Part 1"
   ]
  },
  {
   "cell_type": "code",
   "execution_count": 24,
   "metadata": {},
   "outputs": [],
   "source": [
    "LAMBDA = 0.0001"
   ]
  },
  {
   "cell_type": "code",
   "execution_count": 25,
   "metadata": {},
   "outputs": [],
   "source": [
    "def ols():\n",
    "    train_error = []\n",
    "    test_error  = []\n",
    "\n",
    "    for i in range(10):\n",
    "        train,test   = train_test_split(dataset,test_size=0.2)\n",
    "        train_labels,test_labels = train[:,-1].reshape(-1,1),test[:,-1].reshape(-1,1)\n",
    "        train,test        = train[:,0:7],test[:,0:7]\n",
    "        N_train,p         = train.shape\n",
    "        N_test            = test.shape[0]\n",
    "        train,test        = np.hstack((np.ones((N_train,1)),train)),np.hstack((np.ones((N_test,1)),test))\n",
    "\n",
    "        beta = np.dot(np.linalg.inv(np.dot(train.T,train) + LAMBDA*(np.eye(p+1))),np.dot(train.T,train_labels))\n",
    "        predicted_train_labels,predicted_test_labels = np.dot(train,beta),np.dot(test,beta)\n",
    "        train_error.append(r2_score(train_labels,predicted_train_labels))\n",
    "        test_error.append(r2_score(test_labels,predicted_test_labels))\n",
    "\n",
    "    print(\"Avg training_error %f \" %(sum(train_error)/10))\n",
    "    print(\"Avg test_error %f\" %(sum(test_error)/10))"
   ]
  },
  {
   "cell_type": "code",
   "execution_count": 26,
   "metadata": {},
   "outputs": [
    {
     "name": "stdout",
     "output_type": "stream",
     "text": [
      "Avg training_error 0.525926 \n",
      "Avg test_error 0.528256\n"
     ]
    }
   ],
   "source": [
    "ols()"
   ]
  },
  {
   "cell_type": "markdown",
   "metadata": {},
   "source": [
    "# Part 2"
   ]
  },
  {
   "cell_type": "code",
   "execution_count": 34,
   "metadata": {
    "scrolled": true
   },
   "outputs": [],
   "source": [
    "def Train_tree(depth):\n",
    "    \n",
    "    Train_error = []\n",
    "    Test_eror   = []\n",
    "    \n",
    "    for i in range(1,depth+1):\n",
    "        \n",
    "        train,test   = train_test_split(dataset,test_size=0.2)\n",
    "        train_labels,test_labels = train[:,-1].reshape(-1,1),test[:,-1].reshape(-1,1)\n",
    "        train,test        = train[:,0:7],test[:,0:7]\n",
    "        \n",
    "        Tree = DecisionTreeRegressor(max_depth = i,random_state=1)\n",
    "        Tree.fit(train,train_labels)\n",
    "\n",
    "        predictied_train_labels = Tree.predict(train)\n",
    "        Train_error.append(r2_score(train_labels,predictied_train_labels))\n",
    "\n",
    "        predictied_test_labels  = Tree.predict(test)\n",
    "        Test_eror.append(r2_score(test_labels,predictied_test_labels))\n",
    "\n",
    "    Depth = np.linspace(1,depth,depth)\n",
    "    plt.plot(Depth,Train_error,label = 'R2 Training')\n",
    "    plt.plot(Depth,Test_eror,label = 'R2 Testing')\n",
    "    plt.xlabel(\"Depth\")\n",
    "    plt.ylabel(\"R2\")\n",
    "    plt.title(\"Regression Tree error\")\n",
    "    plt.legend()\n",
    "    plt.show()\n",
    "    df = pd.DataFrame(np.array(list(zip(Train_error,Test_eror))),columns=[\"Train error\",\"Test Error\"])\n",
    "    df.index = [i for i in range(1,depth+1)]\n",
    "    df.index.name = 'depth'\n",
    "    return df"
   ]
  },
  {
   "cell_type": "code",
   "execution_count": 35,
   "metadata": {},
   "outputs": [
    {
     "data": {
      "image/png": "[encoded data removed]",
      "text/plain": [
       "<Figure size 432x288 with 1 Axes>"
      ]
     },
     "metadata": {
      "needs_background": "light"
     },
     "output_type": "display_data"
    },
    {
     "data": {
      "text/html": [
       "<div>\n",
       "<style scoped>\n",
       "    .dataframe tbody tr th:only-of-type {\n",
       "        vertical-align: middle;\n",
       "    }\n",
       "\n",
       "    .dataframe tbody tr th {\n",
       "        vertical-align: top;\n",
       "    }\n",
       "\n",
       "    .dataframe thead th {\n",
       "        text-align: right;\n",
       "    }\n",
       "</style>\n",
       "<table border=\"1\" class=\"dataframe\">\n",
       "  <thead>\n",
       "    <tr style=\"text-align: right;\">\n",
       "      <th></th>\n",
       "      <th>Train error</th>\n",
       "      <th>Test Error</th>\n",
       "    </tr>\n",
       "    <tr>\n",
       "      <th>depth</th>\n",
       "      <th></th>\n",
       "      <th></th>\n",
       "    </tr>\n",
       "  </thead>\n",
       "  <tbody>\n",
       "    <tr>\n",
       "      <th>1</th>\n",
       "      <td>0.281431</td>\n",
       "      <td>0.281007</td>\n",
       "    </tr>\n",
       "    <tr>\n",
       "      <th>2</th>\n",
       "      <td>0.372868</td>\n",
       "      <td>0.376649</td>\n",
       "    </tr>\n",
       "    <tr>\n",
       "      <th>3</th>\n",
       "      <td>0.427515</td>\n",
       "      <td>0.443095</td>\n",
       "    </tr>\n",
       "    <tr>\n",
       "      <th>4</th>\n",
       "      <td>0.495100</td>\n",
       "      <td>0.441262</td>\n",
       "    </tr>\n",
       "    <tr>\n",
       "      <th>5</th>\n",
       "      <td>0.541672</td>\n",
       "      <td>0.470334</td>\n",
       "    </tr>\n",
       "    <tr>\n",
       "      <th>6</th>\n",
       "      <td>0.602595</td>\n",
       "      <td>0.433511</td>\n",
       "    </tr>\n",
       "    <tr>\n",
       "      <th>7</th>\n",
       "      <td>0.649172</td>\n",
       "      <td>0.470083</td>\n",
       "    </tr>\n",
       "  </tbody>\n",
       "</table>\n",
       "</div>"
      ],
      "text/plain": [
       "       Train error  Test Error\n",
       "depth                         \n",
       "1         0.281431    0.281007\n",
       "2         0.372868    0.376649\n",
       "3         0.427515    0.443095\n",
       "4         0.495100    0.441262\n",
       "5         0.541672    0.470334\n",
       "6         0.602595    0.433511\n",
       "7         0.649172    0.470083"
      ]
     },
     "execution_count": 35,
     "metadata": {},
     "output_type": "execute_result"
    }
   ],
   "source": [
    "Train_tree(7)"
   ]
  },
  {
   "cell_type": "markdown",
   "metadata": {},
   "source": [
    "# Part 3"
   ]
  },
  {
   "cell_type": "code",
   "execution_count": 36,
   "metadata": {},
   "outputs": [],
   "source": [
    "def Train_forest():\n",
    "    Train_error = []\n",
    "    Test_eror   = []\n",
    "    \n",
    "    k = [10,100,300]\n",
    "    \n",
    "    for i in k:\n",
    "        \n",
    "        train,test   = train_test_split(dataset,test_size=0.2)\n",
    "        train_labels,test_labels = train[:,-1].reshape(-1,1),test[:,-1].reshape(-1,1)\n",
    "        train,test        = train[:,0:7],test[:,0:7]\n",
    "        \n",
    "        forest = RandomForestRegressor(n_estimators = i,max_features='auto')\n",
    "        forest.fit(train,train_labels)\n",
    "\n",
    "        predictied_train_labels = forest.predict(train)\n",
    "        Train_error.append(r2_score(train_labels,predictied_train_labels))\n",
    "\n",
    "        predictied_test_labels  = forest.predict(test)\n",
    "        Test_eror.append(r2_score(test_labels,predictied_test_labels))\n",
    "\n",
    "   \n",
    "    plt.xticks(np.linspace(0,len(k)-1,len(k)),k) \n",
    "    plt.plot(Train_error,label = 'Training error')\n",
    "    plt.plot(Test_eror,label = 'Testing error')\n",
    "    plt.xlabel(\"K\")\n",
    "    plt.ylabel(\"R2\")\n",
    "    plt.legend()\n",
    "    plt.show()\n",
    "    df = pd.DataFrame(np.array(list(zip(Train_error,Test_eror))),columns=[\"Train error\",\"Test Error\"])\n",
    "    df.index = k\n",
    "    df.index.name = 'k'\n",
    "    \n",
    "    return df\n"
   ]
  },
  {
   "cell_type": "code",
   "execution_count": 37,
   "metadata": {},
   "outputs": [
    {
     "name": "stderr",
     "output_type": "stream",
     "text": [
      "C:\\Users\\18503\\AppData\\Local\\Continuum\\anaconda3\\lib\\site-packages\\ipykernel_launcher.py:14: DataConversionWarning: A column-vector y was passed when a 1d array was expected. Please change the shape of y to (n_samples,), for example using ravel().\n",
      "  \n",
      "C:\\Users\\18503\\AppData\\Local\\Continuum\\anaconda3\\lib\\site-packages\\ipykernel_launcher.py:14: DataConversionWarning: A column-vector y was passed when a 1d array was expected. Please change the shape of y to (n_samples,), for example using ravel().\n",
      "  \n",
      "C:\\Users\\18503\\AppData\\Local\\Continuum\\anaconda3\\lib\\site-packages\\ipykernel_launcher.py:14: DataConversionWarning: A column-vector y was passed when a 1d array was expected. Please change the shape of y to (n_samples,), for example using ravel().\n",
      "  \n"
     ]
    },
    {
     "data": {
      "image/png": "[encoded data removed]",
      "text/plain": [
       "<Figure size 432x288 with 1 Axes>"
      ]
     },
     "metadata": {
      "needs_background": "light"
     },
     "output_type": "display_data"
    },
    {
     "data": {
      "text/html": [
       "<div>\n",
       "<style scoped>\n",
       "    .dataframe tbody tr th:only-of-type {\n",
       "        vertical-align: middle;\n",
       "    }\n",
       "\n",
       "    .dataframe tbody tr th {\n",
       "        vertical-align: top;\n",
       "    }\n",
       "\n",
       "    .dataframe thead th {\n",
       "        text-align: right;\n",
       "    }\n",
       "</style>\n",
       "<table border=\"1\" class=\"dataframe\">\n",
       "  <thead>\n",
       "    <tr style=\"text-align: right;\">\n",
       "      <th></th>\n",
       "      <th>Train error</th>\n",
       "      <th>Test Error</th>\n",
       "    </tr>\n",
       "    <tr>\n",
       "      <th>k</th>\n",
       "      <th></th>\n",
       "      <th></th>\n",
       "    </tr>\n",
       "  </thead>\n",
       "  <tbody>\n",
       "    <tr>\n",
       "      <th>10</th>\n",
       "      <td>0.911681</td>\n",
       "      <td>0.457500</td>\n",
       "    </tr>\n",
       "    <tr>\n",
       "      <th>100</th>\n",
       "      <td>0.933051</td>\n",
       "      <td>0.555884</td>\n",
       "    </tr>\n",
       "    <tr>\n",
       "      <th>300</th>\n",
       "      <td>0.938984</td>\n",
       "      <td>0.486040</td>\n",
       "    </tr>\n",
       "  </tbody>\n",
       "</table>\n",
       "</div>"
      ],
      "text/plain": [
       "     Train error  Test Error\n",
       "k                           \n",
       "10      0.911681    0.457500\n",
       "100     0.933051    0.555884\n",
       "300     0.938984    0.486040"
      ]
     },
     "execution_count": 37,
     "metadata": {},
     "output_type": "execute_result"
    }
   ],
   "source": [
    "Train_forest()"
   ]
  },
  {
   "cell_type": "code",
   "execution_count": 3,
   "metadata": {},
   "outputs": [
    {
     "data": {
      "text/plain": [
       "array([ 4, 10, 18])"
      ]
     },
     "execution_count": 3,
     "metadata": {},
     "output_type": "execute_result"
    }
   ],
   "source": [
    "import numpy as np\n",
    "a = np.array([1,2,3])\n",
    "b = np.array([4,5,6])\n",
    "np.multiply(a,b)"
   ]
  },
  {
   "cell_type": "code",
   "execution_count": null,
   "metadata": {},
   "outputs": [],
   "source": []
  }
 ],
 "metadata": {
  "kernelspec": {
   "display_name": "Python 3",
   "language": "python",
   "name": "python3"
  },
  "language_info": {
   "codemirror_mode": {
    "name": "ipython",
    "version": 3
   },
   "file_extension": ".py",
   "mimetype": "text/x-python",
   "name": "python",
   "nbconvert_exporter": "python",
   "pygments_lexer": "ipython3",
   "version": "3.7.3"
  }
 },
 "nbformat": 4,
 "nbformat_minor": 4
}
