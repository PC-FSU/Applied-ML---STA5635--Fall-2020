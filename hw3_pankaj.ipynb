{
 "cells": [
  {
   "cell_type": "code",
   "execution_count": 1,
   "metadata": {},
   "outputs": [],
   "source": [
    "import numpy as np\n",
    "import matplotlib.pyplot as plt\n",
    "import os\n",
    "from sklearn import preprocessing\n",
    "import time\n",
    "from sklearn.metrics import accuracy_score"
   ]
  },
  {
   "cell_type": "code",
   "execution_count": 2,
   "metadata": {},
   "outputs": [],
   "source": [
    "#source_folder = \"//home//pc19d//Downloads//hw3//\"\n",
    "source_folder = \"C:\\\\Users\\\\18503\\\\Dropbox\\\\Course\\\\Applied Machine Learning\\\\Homework\\\\hw3\""
   ]
  },
  {
   "cell_type": "code",
   "execution_count": 3,
   "metadata": {
    "scrolled": true
   },
   "outputs": [
    {
     "data": {
      "text/plain": [
       "['Dataset.pdf',\n",
       " 'GISETTE.htm',\n",
       " 'gisette.param',\n",
       " 'gisette_test.data',\n",
       " 'gisette_train.data',\n",
       " 'gisette_train.labels',\n",
       " 'gisette_valid.data',\n",
       " 'gisette_valid.labels']"
      ]
     },
     "execution_count": 3,
     "metadata": {},
     "output_type": "execute_result"
    }
   ],
   "source": [
    "os.listdir(os.path.join(source_folder,\"Gisette\"))"
   ]
  },
  {
   "cell_type": "markdown",
   "metadata": {},
   "source": [
    "# PreProcessing"
   ]
  },
  {
   "cell_type": "code",
   "execution_count": 4,
   "metadata": {},
   "outputs": [],
   "source": [
    "def Preprocess(dataset,delimiter):\n",
    "\n",
    "    Train_data  = np.genfromtxt(os.path.join(source_folder,dataset,dataset.lower()+\"_train.data\"),delimiter =delimiter)\n",
    "    Train_label = np.genfromtxt(os.path.join(source_folder,dataset,dataset.lower()+\"_train.labels\"))\n",
    "    Test_data  = np.genfromtxt(os.path.join(source_folder,dataset,dataset.lower()+\"_valid.data\"),delimiter=delimiter)\n",
    "    Test_label = np.genfromtxt(os.path.join(source_folder,dataset,dataset.lower()+\"_valid.labels\"))\n",
    "    scaler = preprocessing.StandardScaler().fit(Train_data)\n",
    "    Train_data = scaler.transform(Train_data)\n",
    "    Test_data  = scaler.transform(Test_data)\n",
    "    #print(Train_data.mean(axis=0),Train_data.std(axis=0),Test_data.mean(axis=0),Test_data.std(axis=0))\n",
    "    \n",
    "    #Add a column of one\n",
    "    N_train,N_test              = Train_data.shape[0],Test_data.shape[0]\n",
    "    Train_data,Test_data        = np.hstack((np.ones((N_train,1)),Train_data)),np.hstack((np.ones((N_test,1)),Test_data))\n",
    "    \n",
    "    #Change label's from -1 to 0\n",
    "    Train_label = np.where(Train_label==-1,0,Train_label)\n",
    "    Test_label  = np.where(Test_label==-1,0,Test_label)\n",
    "    Train_label,Test_label = Train_label.reshape(-1,1),Test_label.reshape(-1,1)\n",
    "    return Train_data,Train_label,Test_data,Test_label"
   ]
  },
  {
   "cell_type": "markdown",
   "metadata": {},
   "source": [
    "# Train"
   ]
  },
  {
   "cell_type": "code",
   "execution_count": 5,
   "metadata": {},
   "outputs": [],
   "source": [
    "def likelihood_grad(X,Y,W):\n",
    "    prod = np.exp(np.matmul(X,W))\n",
    "    temp = np.matmul(X.T,Y - np.divide(prod,1 + prod))\n",
    "    return temp"
   ]
  },
  {
   "cell_type": "code",
   "execution_count": 1,
   "metadata": {},
   "outputs": [],
   "source": [
    "def likelihood(X,Y,W,like=False,grad=False):\n",
    "    temp   = np.matmul(X,W)\n",
    "    result = Y*temp - np.log(1+np.exp(temp))\n",
    "    result = np.sum(result,axis=0)\n",
    "    return result"
   ]
  },
  {
   "cell_type": "code",
   "execution_count": 7,
   "metadata": {},
   "outputs": [],
   "source": [
    "def update_weight(data,label,lr,LAMBDA,Iter):\n",
    "    N,p = data.shape\n",
    "    W = np.zeros(shape = (p,1))\n",
    "    W_0 = W.copy()\n",
    "    res = [0]*Iter\n",
    "    for i in range(Iter):\n",
    "        W = W_0 - lr*LAMBDA*W_0 + (lr/N)*likelihood_grad(data,label,W_0)\n",
    "        res[i] = likelihood(data,label,W)\n",
    "        W_0 = W.copy()\n",
    "    return W,res"
   ]
  },
  {
   "cell_type": "markdown",
   "metadata": {},
   "source": [
    "# Predict"
   ]
  },
  {
   "cell_type": "code",
   "execution_count": 8,
   "metadata": {},
   "outputs": [],
   "source": [
    "def sigmoid(z):\n",
    "    return(1 / (1 + np.exp(-z)))"
   ]
  },
  {
   "cell_type": "code",
   "execution_count": 9,
   "metadata": {},
   "outputs": [],
   "source": [
    "def predict(W, data, threshold=0.5):\n",
    "    p = sigmoid(data@W) >= threshold\n",
    "    return(p.astype('int'))"
   ]
  },
  {
   "cell_type": "markdown",
   "metadata": {},
   "source": [
    "### Part 1"
   ]
  },
  {
   "cell_type": "code",
   "execution_count": 78,
   "metadata": {},
   "outputs": [
    {
     "data": {
      "text/plain": [
       "((6000, 5001), (6000, 1), (1000, 5001), (1000, 1))"
      ]
     },
     "execution_count": 78,
     "metadata": {},
     "output_type": "execute_result"
    }
   ],
   "source": [
    "dataset  = str(\"Gisette\")\n",
    "Train_data,Train_label,Test_data,Test_label = Preprocess(dataset,delimiter=\"\")\n",
    "Train_data.shape,Train_label.shape,Test_data.shape,Test_label.shape"
   ]
  },
  {
   "cell_type": "code",
   "execution_count": 12,
   "metadata": {
    "scrolled": true
   },
   "outputs": [
    {
     "name": "stdout",
     "output_type": "stream",
     "text": [
      "Total RUN TIME :  16.607280254364014\n"
     ]
    }
   ],
   "source": [
    "LAMBDA = 0.0001  \n",
    "Iter = 300\n",
    "lr = 0.01\n",
    "start = time.time()\n",
    "W,loglike = update_weight(Train_data,Train_label,lr,LAMBDA,Iter)\n",
    "print(\"Total RUN TIME : \",time.time()-start)"
   ]
  },
  {
   "cell_type": "code",
   "execution_count": 91,
   "metadata": {},
   "outputs": [
    {
     "data": {
      "text/plain": [
       "Text(0, 0.5, 'Negartive Log-Likelihood')"
      ]
     },
     "execution_count": 91,
     "metadata": {},
     "output_type": "execute_result"
    },
    {
     "data": {
      "image/png": "[encoded data removed]",
      "text/plain": [
       "<Figure size 432x288 with 1 Axes>"
      ]
     },
     "metadata": {
      "needs_background": "light"
     },
     "output_type": "display_data"
    }
   ],
   "source": [
    "temp = -1*np.array(loglike)\n",
    "plt.plot(temp)\n",
    "plt.xlabel(\"Iterations\")\n",
    "plt.ylabel(\"Negartive Log-Likelihood\")"
   ]
  },
  {
   "cell_type": "code",
   "execution_count": 90,
   "metadata": {},
   "outputs": [
    {
     "name": "stdout",
     "output_type": "stream",
     "text": [
      "Train Error : 0.009333 ,Test error : 0.020000\n"
     ]
    }
   ],
   "source": [
    "Predicted_label_train = predict(W,Train_data,threshold=0.5)\n",
    "Predicted_label_test  = predict(W,Test_data,threshold=0.5)\n",
    "train_error,test_error = 1-accuracy_score(Train_label,Predicted_label_train),1-accuracy_score(Test_label,Predicted_label_test)\n",
    "print(\"Train Error : %f ,Test error : %f\"%(train_error,test_error))"
   ]
  },
  {
   "cell_type": "markdown",
   "metadata": {},
   "source": [
    "### Part 2"
   ]
  },
  {
   "cell_type": "code",
   "execution_count": 10,
   "metadata": {},
   "outputs": [
    {
     "data": {
      "text/plain": [
       "((606, 101), (606, 1), (606, 101), (606, 1))"
      ]
     },
     "execution_count": 10,
     "metadata": {},
     "output_type": "execute_result"
    }
   ],
   "source": [
    "dataset2  = str(\"hill_valley\")\n",
    "Train_data2,Train_label2,Test_data2,Test_label2 = Preprocess(dataset2,delimiter=\"\")\n",
    "Train_data2.shape,Train_label2.shape,Test_data2.shape,Test_label2.shape"
   ]
  },
  {
   "cell_type": "code",
   "execution_count": 11,
   "metadata": {},
   "outputs": [
    {
     "name": "stdout",
     "output_type": "stream",
     "text": [
      "Total RUN TIME :  21.976696491241455\n"
     ]
    }
   ],
   "source": [
    "LAMBDA = 0.0001\n",
    "Iter = 100000\n",
    "lr = 0.1\n",
    "start = time.time()\n",
    "W2,loglike2 = update_weight(Train_data2,Train_label2,lr,LAMBDA,Iter)\n",
    "print(\"Total RUN TIME : \",time.time()-start)"
   ]
  },
  {
   "cell_type": "code",
   "execution_count": 12,
   "metadata": {},
   "outputs": [
    {
     "data": {
      "text/plain": [
       "Text(0, 0.5, 'Negartive Log-Likelihood')"
      ]
     },
     "execution_count": 12,
     "metadata": {},
     "output_type": "execute_result"
    },
    {
     "data": {
      "image/png": "[encoded data removed]",
      "text/plain": [
       "<Figure size 432x288 with 1 Axes>"
      ]
     },
     "metadata": {
      "needs_background": "light"
     },
     "output_type": "display_data"
    }
   ],
   "source": [
    "temp = -1*np.array(loglike2)\n",
    "plt.plot(temp)\n",
    "plt.xlabel(\"Iterations\")\n",
    "plt.ylabel(\"Negartive Log-Likelihood\")"
   ]
  },
  {
   "cell_type": "code",
   "execution_count": 13,
   "metadata": {},
   "outputs": [
    {
     "name": "stdout",
     "output_type": "stream",
     "text": [
      "Train Error : 0.264026 ,Test error : 0.298680\n"
     ]
    }
   ],
   "source": [
    "Predicted_label_train2 = predict(W2,Train_data2,threshold=0.5)\n",
    "Predicted_label_test2  = predict(W2,Test_data2,threshold=0.5)\n",
    "train_error2,test_error2 = 1-accuracy_score(Train_label2,Predicted_label_train2),1-accuracy_score(Test_label2,Predicted_label_test2)\n",
    "print(\"Train Error : %f ,Test error : %f\"%(train_error2,test_error2))"
   ]
  },
  {
   "cell_type": "markdown",
   "metadata": {},
   "source": [
    "### Part 3"
   ]
  },
  {
   "cell_type": "code",
   "execution_count": 80,
   "metadata": {},
   "outputs": [
    {
     "data": {
      "text/plain": [
       "((300, 20001), (300, 1), (300, 20001), (300, 1))"
      ]
     },
     "execution_count": 80,
     "metadata": {},
     "output_type": "execute_result"
    }
   ],
   "source": [
    "dataset3  = str(\"Dexter\")\n",
    "Train_data3,Train_label3,Test_data3,Test_label3 = Preprocess(dataset3,delimiter=\",\")\n",
    "Train_data3.shape,Train_label3.shape,Test_data3.shape,Test_label3.shape"
   ]
  },
  {
   "cell_type": "code",
   "execution_count": 81,
   "metadata": {},
   "outputs": [
    {
     "name": "stdout",
     "output_type": "stream",
     "text": [
      "Total RUN TIME :  3.862471342086792\n"
     ]
    }
   ],
   "source": [
    "LAMBDA = 0.0001\n",
    "Iter = 300\n",
    "lr = 0.01\n",
    "start = time.time()\n",
    "W3,loglike3 = update_weight(Train_data3,Train_label3,lr,LAMBDA,Iter)\n",
    "print(\"Total RUN TIME : \",time.time()-start)"
   ]
  },
  {
   "cell_type": "code",
   "execution_count": 93,
   "metadata": {},
   "outputs": [
    {
     "data": {
      "text/plain": [
       "Text(0, 0.5, 'Negartive Log-Likelihood')"
      ]
     },
     "execution_count": 93,
     "metadata": {},
     "output_type": "execute_result"
    },
    {
     "data": {
      "image/png": "[encoded data removed]",
      "text/plain": [
       "<Figure size 432x288 with 1 Axes>"
      ]
     },
     "metadata": {
      "needs_background": "light"
     },
     "output_type": "display_data"
    }
   ],
   "source": [
    "temp = -1*np.array(loglike3)\n",
    "plt.plot(temp)\n",
    "plt.xlabel(\"Iterations\")\n",
    "plt.ylabel(\"Negative Log-Likelihood\")"
   ]
  },
  {
   "cell_type": "code",
   "execution_count": 94,
   "metadata": {},
   "outputs": [
    {
     "name": "stdout",
     "output_type": "stream",
     "text": [
      "Train Error : 0.000000 ,Test error : 0.140000\n"
     ]
    }
   ],
   "source": [
    "Predicted_label_train3 = predict(W3,Train_data3,threshold=0.5)\n",
    "Predicted_label_test3  = predict(W3,Test_data3,threshold=0.5)\n",
    "train_error3,test_error3 = 1-accuracy_score(Train_label3,Predicted_label_train3),1-accuracy_score(Test_label3,Predicted_label_test3)\n",
    "print(\"Train Error : %f ,Test error : %f\"%(train_error3,test_error3))"
   ]
  },
  {
   "cell_type": "code",
   "execution_count": null,
   "metadata": {},
   "outputs": [],
   "source": []
  }
 ],
 "metadata": {
  "kernelspec": {
   "display_name": "Python 3",
   "language": "python",
   "name": "python3"
  },
  "language_info": {
   "codemirror_mode": {
    "name": "ipython",
    "version": 3
   },
   "file_extension": ".py",
   "mimetype": "text/x-python",
   "name": "python",
   "nbconvert_exporter": "python",
   "pygments_lexer": "ipython3",
   "version": "3.7.3"
  }
 },
 "nbformat": 4,
 "nbformat_minor": 4
}
